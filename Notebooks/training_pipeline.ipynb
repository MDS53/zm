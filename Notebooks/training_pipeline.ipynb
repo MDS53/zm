{
 "cells": [
  {
   "cell_type": "markdown",
   "metadata": {},
   "source": [
    "## Dataset Location : 'c:\\\\Users\\\\new\\\\OneDrive\\\\Desktop\\\\Zomato project\\\\Notebooks\\\\Data'"
   ]
  },
  {
   "cell_type": "code",
   "execution_count": 2,
   "metadata": {},
   "outputs": [],
   "source": [
    "import pandas as pd\n",
    "from sklearn.preprocessing import OrdinalEncoder,OneHotEncoder\n",
    "from sklearn.compose import ColumnTransformer\n",
    "import numpy as np\n",
    "from sklearn.preprocessing import StandardScaler\n",
    "sc=StandardScaler()\n",
    "from sklearn.model_selection import train_test_split\n",
    "import seaborn as sns\n",
    "import lightgbm as lgb"
   ]
  },
  {
   "cell_type": "code",
   "execution_count": 3,
   "metadata": {},
   "outputs": [],
   "source": [
    "df=pd.read_csv('Data/Semi_Cleaned_data.csv')"
   ]
  },
  {
   "cell_type": "code",
   "execution_count": 4,
   "metadata": {},
   "outputs": [],
   "source": [
    "df.drop([df.columns[0]],axis=1,inplace=True)"
   ]
  },
  {
   "cell_type": "code",
   "execution_count": 5,
   "metadata": {},
   "outputs": [
    {
     "data": {
      "text/html": [
       "<div>\n",
       "<style scoped>\n",
       "    .dataframe tbody tr th:only-of-type {\n",
       "        vertical-align: middle;\n",
       "    }\n",
       "\n",
       "    .dataframe tbody tr th {\n",
       "        vertical-align: top;\n",
       "    }\n",
       "\n",
       "    .dataframe thead th {\n",
       "        text-align: right;\n",
       "    }\n",
       "</style>\n",
       "<table border=\"1\" class=\"dataframe\">\n",
       "  <thead>\n",
       "    <tr style=\"text-align: right;\">\n",
       "      <th></th>\n",
       "      <th>Delivery_person_ID</th>\n",
       "      <th>Delivery_person_Age</th>\n",
       "      <th>Delivery_person_Ratings</th>\n",
       "      <th>Weather_conditions</th>\n",
       "      <th>Road_traffic_density</th>\n",
       "      <th>Vehicle_condition</th>\n",
       "      <th>Type_of_order</th>\n",
       "      <th>Type_of_vehicle</th>\n",
       "      <th>multiple_deliveries</th>\n",
       "      <th>Festival</th>\n",
       "      <th>City</th>\n",
       "      <th>Time_taken (min)</th>\n",
       "      <th>Distance in kms</th>\n",
       "      <th>Order_Day</th>\n",
       "      <th>Order_month</th>\n",
       "      <th>Order_year</th>\n",
       "      <th>Time_Orderd_Hour</th>\n",
       "      <th>Time_Orderd_mins</th>\n",
       "      <th>Time_Order_picked_Hour</th>\n",
       "      <th>Time_Order_picked_mins</th>\n",
       "    </tr>\n",
       "  </thead>\n",
       "  <tbody>\n",
       "    <tr>\n",
       "      <th>0</th>\n",
       "      <td>DEHRES17DEL01</td>\n",
       "      <td>36.0</td>\n",
       "      <td>4.2</td>\n",
       "      <td>Fog</td>\n",
       "      <td>Jam</td>\n",
       "      <td>2</td>\n",
       "      <td>Snack</td>\n",
       "      <td>motorcycle</td>\n",
       "      <td>3.0</td>\n",
       "      <td>No</td>\n",
       "      <td>Metropolitian</td>\n",
       "      <td>46</td>\n",
       "      <td>10.3</td>\n",
       "      <td>12</td>\n",
       "      <td>2</td>\n",
       "      <td>2022</td>\n",
       "      <td>21.0</td>\n",
       "      <td>55.0</td>\n",
       "      <td>22.0</td>\n",
       "      <td>10.0</td>\n",
       "    </tr>\n",
       "    <tr>\n",
       "      <th>1</th>\n",
       "      <td>KOCRES16DEL01</td>\n",
       "      <td>21.0</td>\n",
       "      <td>4.7</td>\n",
       "      <td>Stormy</td>\n",
       "      <td>High</td>\n",
       "      <td>1</td>\n",
       "      <td>Meal</td>\n",
       "      <td>motorcycle</td>\n",
       "      <td>1.0</td>\n",
       "      <td>No</td>\n",
       "      <td>Metropolitian</td>\n",
       "      <td>23</td>\n",
       "      <td>6.2</td>\n",
       "      <td>13</td>\n",
       "      <td>2</td>\n",
       "      <td>2022</td>\n",
       "      <td>14.0</td>\n",
       "      <td>55.0</td>\n",
       "      <td>15.0</td>\n",
       "      <td>5.0</td>\n",
       "    </tr>\n",
       "    <tr>\n",
       "      <th>2</th>\n",
       "      <td>PUNERES13DEL03</td>\n",
       "      <td>23.0</td>\n",
       "      <td>4.7</td>\n",
       "      <td>Sandstorms</td>\n",
       "      <td>Medium</td>\n",
       "      <td>1</td>\n",
       "      <td>Drinks</td>\n",
       "      <td>scooter</td>\n",
       "      <td>1.0</td>\n",
       "      <td>No</td>\n",
       "      <td>Metropolitian</td>\n",
       "      <td>21</td>\n",
       "      <td>13.8</td>\n",
       "      <td>4</td>\n",
       "      <td>3</td>\n",
       "      <td>2022</td>\n",
       "      <td>17.0</td>\n",
       "      <td>30.0</td>\n",
       "      <td>17.0</td>\n",
       "      <td>40.0</td>\n",
       "    </tr>\n",
       "    <tr>\n",
       "      <th>3</th>\n",
       "      <td>LUDHRES15DEL02</td>\n",
       "      <td>34.0</td>\n",
       "      <td>4.3</td>\n",
       "      <td>Sandstorms</td>\n",
       "      <td>Low</td>\n",
       "      <td>0</td>\n",
       "      <td>Buffet</td>\n",
       "      <td>motorcycle</td>\n",
       "      <td>0.0</td>\n",
       "      <td>No</td>\n",
       "      <td>Metropolitian</td>\n",
       "      <td>20</td>\n",
       "      <td>2.9</td>\n",
       "      <td>13</td>\n",
       "      <td>2</td>\n",
       "      <td>2022</td>\n",
       "      <td>9.0</td>\n",
       "      <td>20.0</td>\n",
       "      <td>9.0</td>\n",
       "      <td>30.0</td>\n",
       "    </tr>\n",
       "    <tr>\n",
       "      <th>4</th>\n",
       "      <td>KNPRES14DEL02</td>\n",
       "      <td>24.0</td>\n",
       "      <td>4.7</td>\n",
       "      <td>Fog</td>\n",
       "      <td>Jam</td>\n",
       "      <td>1</td>\n",
       "      <td>Snack</td>\n",
       "      <td>scooter</td>\n",
       "      <td>1.0</td>\n",
       "      <td>No</td>\n",
       "      <td>Metropolitian</td>\n",
       "      <td>41</td>\n",
       "      <td>19.4</td>\n",
       "      <td>14</td>\n",
       "      <td>2</td>\n",
       "      <td>2022</td>\n",
       "      <td>19.0</td>\n",
       "      <td>50.0</td>\n",
       "      <td>20.0</td>\n",
       "      <td>5.0</td>\n",
       "    </tr>\n",
       "  </tbody>\n",
       "</table>\n",
       "</div>"
      ],
      "text/plain": [
       "  Delivery_person_ID  Delivery_person_Age  Delivery_person_Ratings  \\\n",
       "0      DEHRES17DEL01                 36.0                      4.2   \n",
       "1      KOCRES16DEL01                 21.0                      4.7   \n",
       "2     PUNERES13DEL03                 23.0                      4.7   \n",
       "3     LUDHRES15DEL02                 34.0                      4.3   \n",
       "4      KNPRES14DEL02                 24.0                      4.7   \n",
       "\n",
       "  Weather_conditions Road_traffic_density  Vehicle_condition Type_of_order  \\\n",
       "0                Fog                  Jam                  2         Snack   \n",
       "1             Stormy                 High                  1          Meal   \n",
       "2         Sandstorms               Medium                  1        Drinks   \n",
       "3         Sandstorms                  Low                  0        Buffet   \n",
       "4                Fog                  Jam                  1         Snack   \n",
       "\n",
       "  Type_of_vehicle  multiple_deliveries Festival           City  \\\n",
       "0      motorcycle                  3.0       No  Metropolitian   \n",
       "1      motorcycle                  1.0       No  Metropolitian   \n",
       "2         scooter                  1.0       No  Metropolitian   \n",
       "3      motorcycle                  0.0       No  Metropolitian   \n",
       "4         scooter                  1.0       No  Metropolitian   \n",
       "\n",
       "   Time_taken (min)  Distance in kms  Order_Day  Order_month  Order_year  \\\n",
       "0                46             10.3         12            2        2022   \n",
       "1                23              6.2         13            2        2022   \n",
       "2                21             13.8          4            3        2022   \n",
       "3                20              2.9         13            2        2022   \n",
       "4                41             19.4         14            2        2022   \n",
       "\n",
       "   Time_Orderd_Hour  Time_Orderd_mins  Time_Order_picked_Hour  \\\n",
       "0              21.0              55.0                    22.0   \n",
       "1              14.0              55.0                    15.0   \n",
       "2              17.0              30.0                    17.0   \n",
       "3               9.0              20.0                     9.0   \n",
       "4              19.0              50.0                    20.0   \n",
       "\n",
       "   Time_Order_picked_mins  \n",
       "0                    10.0  \n",
       "1                     5.0  \n",
       "2                    40.0  \n",
       "3                    30.0  \n",
       "4                     5.0  "
      ]
     },
     "execution_count": 5,
     "metadata": {},
     "output_type": "execute_result"
    }
   ],
   "source": [
    "df.head()"
   ]
  },
  {
   "cell_type": "code",
   "execution_count": 6,
   "metadata": {},
   "outputs": [],
   "source": [
    "X_train,X_test,y_train,y_test=train_test_split(df.drop(['Time_taken (min)'],axis=1),df[['Time_taken (min)']],test_size=0.3,random_state=45)"
   ]
  },
  {
   "cell_type": "markdown",
   "metadata": {},
   "source": [
    "# Custom transformers "
   ]
  },
  {
   "cell_type": "code",
   "execution_count": 7,
   "metadata": {},
   "outputs": [],
   "source": [
    "from sklearn.base import BaseEstimator, TransformerMixin\n",
    "\n",
    "class CustomTransformer(BaseEstimator, TransformerMixin):\n",
    "    def __init__(self, func):\n",
    "        self.func = func\n",
    "\n",
    "    def fit(self, X, y=None):\n",
    "        return self\n",
    "\n",
    "    def transform(self, X):\n",
    "        return self.func(X)\n",
    "    \n",
    "class CustomTransformer2(BaseEstimator, TransformerMixin):\n",
    "    def __init__(self, func):\n",
    "        self.func = func\n",
    "\n",
    "    def fit(self, X, y=None):\n",
    "        return self\n",
    "\n",
    "    def transform(self, X):\n",
    "        return self.func(X)\n",
    "\n",
    "class CustomTransformer3(BaseEstimator, TransformerMixin):\n",
    "    def __init__(self, func):\n",
    "        self.func = func\n",
    "\n",
    "    def fit(self, X, y=None):\n",
    "        return self\n",
    "\n",
    "    def transform(self, X):\n",
    "        return self.func(X)\n"
   ]
  },
  {
   "cell_type": "code",
   "execution_count": 8,
   "metadata": {},
   "outputs": [],
   "source": [
    "def frequency_encoding(X):\n",
    "    temp=X['Delivery_person_ID'].value_counts().reset_index()\n",
    "    h={}\n",
    "    h=dict(h)\n",
    "    for i in range(len(temp['Delivery_person_ID'])):\n",
    "        h[str(temp['Delivery_person_ID'][i])]=temp['count'][i]\n",
    "    X['Delivery_person_ID']=X['Delivery_person_ID'].replace(h)\n",
    "    return X\n",
    "\n",
    "\n",
    "def road_traffic_density(X):\n",
    "    X = X.copy()\n",
    "    \n",
    "    # Define the mapping for road_traffic_density\n",
    "    density_mapping = {\n",
    "        'Low': 0,\n",
    "        'Medium': 1,\n",
    "        'High': 2,\n",
    "        'Jam': 3\n",
    "    }\n",
    "    \n",
    "    # Apply the mapping\n",
    "    X['Road_traffic_density'] = X['Road_traffic_density'].map(density_mapping).astype(float)\n",
    "    return X\n",
    "\n",
    "\n",
    "def Type_of_vehicle(X):\n",
    "    X = X.copy()\n",
    "    \n",
    "    # Define the mapping for road_traffic_density\n",
    "    density_mapping = {\n",
    "       'bicycle':0,\n",
    "       'scooter':1,\n",
    "       'motorcycle':2,\n",
    "       'electric_scooter':3\n",
    "    }\n",
    "    \n",
    "    # Apply the mapping\n",
    "    X['Type_of_vehicle'] = X['Type_of_vehicle'].map(density_mapping).astype(float)\n",
    "    return X\n"
   ]
  },
  {
   "cell_type": "code",
   "execution_count": 9,
   "metadata": {},
   "outputs": [],
   "source": [
    "Encoding_tnf=ColumnTransformer(transformers=[\n",
    "    (\"tnf2\",OneHotEncoder(drop='first',sparse_output=False,handle_unknown='ignore'),['Weather_conditions','Type_of_order','Festival','City'])\n",
    "    ],remainder=\"passthrough\")\n",
    "\n",
    "\n",
    "scaling_tnf=ColumnTransformer(transformers=[\n",
    "    (\"tnf\",StandardScaler(),slice(0,18))\n",
    "],remainder=\"passthrough\")"
   ]
  },
  {
   "cell_type": "code",
   "execution_count": 10,
   "metadata": {},
   "outputs": [],
   "source": [
    "model=lgb.LGBMRegressor(colsample_bytree=0.9769037375988533,learning_rate=0.05854272296061775,max_depth=18,min_child_weight=0.7607736996559302,n_estimators=100,num_leaves=130,subsample=0.5434350673119992)"
   ]
  },
  {
   "cell_type": "code",
   "execution_count": 11,
   "metadata": {},
   "outputs": [],
   "source": [
    "from sklearn.pipeline import Pipeline\n",
    "\n",
    "pipeline = Pipeline([\n",
    "    ('custom', CustomTransformer(frequency_encoding)),\n",
    "    ('custom2', CustomTransformer2(road_traffic_density)),\n",
    "    ('custom3', CustomTransformer3(Type_of_vehicle)),\n",
    "    ('Encoding_tnf',Encoding_tnf),\n",
    "    ('scaling_tnf',scaling_tnf),\n",
    "    ('model',model)\n",
    "\n",
    "    \n",
    "])\n"
   ]
  },
  {
   "cell_type": "code",
   "execution_count": 12,
   "metadata": {},
   "outputs": [
    {
     "data": {
      "text/html": [
       "<style>#sk-container-id-1 {color: black;}#sk-container-id-1 pre{padding: 0;}#sk-container-id-1 div.sk-toggleable {background-color: white;}#sk-container-id-1 label.sk-toggleable__label {cursor: pointer;display: block;width: 100%;margin-bottom: 0;padding: 0.3em;box-sizing: border-box;text-align: center;}#sk-container-id-1 label.sk-toggleable__label-arrow:before {content: \"▸\";float: left;margin-right: 0.25em;color: #696969;}#sk-container-id-1 label.sk-toggleable__label-arrow:hover:before {color: black;}#sk-container-id-1 div.sk-estimator:hover label.sk-toggleable__label-arrow:before {color: black;}#sk-container-id-1 div.sk-toggleable__content {max-height: 0;max-width: 0;overflow: hidden;text-align: left;background-color: #f0f8ff;}#sk-container-id-1 div.sk-toggleable__content pre {margin: 0.2em;color: black;border-radius: 0.25em;background-color: #f0f8ff;}#sk-container-id-1 input.sk-toggleable__control:checked~div.sk-toggleable__content {max-height: 200px;max-width: 100%;overflow: auto;}#sk-container-id-1 input.sk-toggleable__control:checked~label.sk-toggleable__label-arrow:before {content: \"▾\";}#sk-container-id-1 div.sk-estimator input.sk-toggleable__control:checked~label.sk-toggleable__label {background-color: #d4ebff;}#sk-container-id-1 div.sk-label input.sk-toggleable__control:checked~label.sk-toggleable__label {background-color: #d4ebff;}#sk-container-id-1 input.sk-hidden--visually {border: 0;clip: rect(1px 1px 1px 1px);clip: rect(1px, 1px, 1px, 1px);height: 1px;margin: -1px;overflow: hidden;padding: 0;position: absolute;width: 1px;}#sk-container-id-1 div.sk-estimator {font-family: monospace;background-color: #f0f8ff;border: 1px dotted black;border-radius: 0.25em;box-sizing: border-box;margin-bottom: 0.5em;}#sk-container-id-1 div.sk-estimator:hover {background-color: #d4ebff;}#sk-container-id-1 div.sk-parallel-item::after {content: \"\";width: 100%;border-bottom: 1px solid gray;flex-grow: 1;}#sk-container-id-1 div.sk-label:hover label.sk-toggleable__label {background-color: #d4ebff;}#sk-container-id-1 div.sk-serial::before {content: \"\";position: absolute;border-left: 1px solid gray;box-sizing: border-box;top: 0;bottom: 0;left: 50%;z-index: 0;}#sk-container-id-1 div.sk-serial {display: flex;flex-direction: column;align-items: center;background-color: white;padding-right: 0.2em;padding-left: 0.2em;position: relative;}#sk-container-id-1 div.sk-item {position: relative;z-index: 1;}#sk-container-id-1 div.sk-parallel {display: flex;align-items: stretch;justify-content: center;background-color: white;position: relative;}#sk-container-id-1 div.sk-item::before, #sk-container-id-1 div.sk-parallel-item::before {content: \"\";position: absolute;border-left: 1px solid gray;box-sizing: border-box;top: 0;bottom: 0;left: 50%;z-index: -1;}#sk-container-id-1 div.sk-parallel-item {display: flex;flex-direction: column;z-index: 1;position: relative;background-color: white;}#sk-container-id-1 div.sk-parallel-item:first-child::after {align-self: flex-end;width: 50%;}#sk-container-id-1 div.sk-parallel-item:last-child::after {align-self: flex-start;width: 50%;}#sk-container-id-1 div.sk-parallel-item:only-child::after {width: 0;}#sk-container-id-1 div.sk-dashed-wrapped {border: 1px dashed gray;margin: 0 0.4em 0.5em 0.4em;box-sizing: border-box;padding-bottom: 0.4em;background-color: white;}#sk-container-id-1 div.sk-label label {font-family: monospace;font-weight: bold;display: inline-block;line-height: 1.2em;}#sk-container-id-1 div.sk-label-container {text-align: center;}#sk-container-id-1 div.sk-container {/* jupyter's `normalize.less` sets `[hidden] { display: none; }` but bootstrap.min.css set `[hidden] { display: none !important; }` so we also need the `!important` here to be able to override the default hidden behavior on the sphinx rendered scikit-learn.org. See: https://github.com/scikit-learn/scikit-learn/issues/21755 */display: inline-block !important;position: relative;}#sk-container-id-1 div.sk-text-repr-fallback {display: none;}</style><div id=\"sk-container-id-1\" class=\"sk-top-container\"><div class=\"sk-text-repr-fallback\"><pre>Pipeline(steps=[(&#x27;custom&#x27;,\n",
       "                 CustomTransformer(func=&lt;function frequency_encoding at 0x00000222E14BECA0&gt;)),\n",
       "                (&#x27;custom2&#x27;,\n",
       "                 CustomTransformer2(func=&lt;function road_traffic_density at 0x00000222E14BEE50&gt;)),\n",
       "                (&#x27;custom3&#x27;,\n",
       "                 CustomTransformer3(func=&lt;function Type_of_vehicle at 0x00000222E14BEEE0&gt;)),\n",
       "                (&#x27;Encoding_tnf&#x27;,\n",
       "                 ColumnTransformer(remainder=&#x27;passthrough&#x27;,\n",
       "                                   transformers=[(&#x27;tnf2&#x27;...\n",
       "                                                  [&#x27;Weather_conditions&#x27;,\n",
       "                                                   &#x27;Type_of_order&#x27;, &#x27;Festival&#x27;,\n",
       "                                                   &#x27;City&#x27;])])),\n",
       "                (&#x27;scaling_tnf&#x27;,\n",
       "                 ColumnTransformer(remainder=&#x27;passthrough&#x27;,\n",
       "                                   transformers=[(&#x27;tnf&#x27;, StandardScaler(),\n",
       "                                                  slice(0, 18, None))])),\n",
       "                (&#x27;model&#x27;,\n",
       "                 LGBMRegressor(colsample_bytree=0.9769037375988533,\n",
       "                               learning_rate=0.05854272296061775, max_depth=18,\n",
       "                               min_child_weight=0.7607736996559302,\n",
       "                               num_leaves=130, subsample=0.5434350673119992))])</pre><b>In a Jupyter environment, please rerun this cell to show the HTML representation or trust the notebook. <br />On GitHub, the HTML representation is unable to render, please try loading this page with nbviewer.org.</b></div><div class=\"sk-container\" hidden><div class=\"sk-item sk-dashed-wrapped\"><div class=\"sk-label-container\"><div class=\"sk-label sk-toggleable\"><input class=\"sk-toggleable__control sk-hidden--visually\" id=\"sk-estimator-id-1\" type=\"checkbox\" ><label for=\"sk-estimator-id-1\" class=\"sk-toggleable__label sk-toggleable__label-arrow\">Pipeline</label><div class=\"sk-toggleable__content\"><pre>Pipeline(steps=[(&#x27;custom&#x27;,\n",
       "                 CustomTransformer(func=&lt;function frequency_encoding at 0x00000222E14BECA0&gt;)),\n",
       "                (&#x27;custom2&#x27;,\n",
       "                 CustomTransformer2(func=&lt;function road_traffic_density at 0x00000222E14BEE50&gt;)),\n",
       "                (&#x27;custom3&#x27;,\n",
       "                 CustomTransformer3(func=&lt;function Type_of_vehicle at 0x00000222E14BEEE0&gt;)),\n",
       "                (&#x27;Encoding_tnf&#x27;,\n",
       "                 ColumnTransformer(remainder=&#x27;passthrough&#x27;,\n",
       "                                   transformers=[(&#x27;tnf2&#x27;...\n",
       "                                                  [&#x27;Weather_conditions&#x27;,\n",
       "                                                   &#x27;Type_of_order&#x27;, &#x27;Festival&#x27;,\n",
       "                                                   &#x27;City&#x27;])])),\n",
       "                (&#x27;scaling_tnf&#x27;,\n",
       "                 ColumnTransformer(remainder=&#x27;passthrough&#x27;,\n",
       "                                   transformers=[(&#x27;tnf&#x27;, StandardScaler(),\n",
       "                                                  slice(0, 18, None))])),\n",
       "                (&#x27;model&#x27;,\n",
       "                 LGBMRegressor(colsample_bytree=0.9769037375988533,\n",
       "                               learning_rate=0.05854272296061775, max_depth=18,\n",
       "                               min_child_weight=0.7607736996559302,\n",
       "                               num_leaves=130, subsample=0.5434350673119992))])</pre></div></div></div><div class=\"sk-serial\"><div class=\"sk-item\"><div class=\"sk-estimator sk-toggleable\"><input class=\"sk-toggleable__control sk-hidden--visually\" id=\"sk-estimator-id-2\" type=\"checkbox\" ><label for=\"sk-estimator-id-2\" class=\"sk-toggleable__label sk-toggleable__label-arrow\">CustomTransformer</label><div class=\"sk-toggleable__content\"><pre>CustomTransformer(func=&lt;function frequency_encoding at 0x00000222E14BECA0&gt;)</pre></div></div></div><div class=\"sk-item\"><div class=\"sk-estimator sk-toggleable\"><input class=\"sk-toggleable__control sk-hidden--visually\" id=\"sk-estimator-id-3\" type=\"checkbox\" ><label for=\"sk-estimator-id-3\" class=\"sk-toggleable__label sk-toggleable__label-arrow\">CustomTransformer2</label><div class=\"sk-toggleable__content\"><pre>CustomTransformer2(func=&lt;function road_traffic_density at 0x00000222E14BEE50&gt;)</pre></div></div></div><div class=\"sk-item\"><div class=\"sk-estimator sk-toggleable\"><input class=\"sk-toggleable__control sk-hidden--visually\" id=\"sk-estimator-id-4\" type=\"checkbox\" ><label for=\"sk-estimator-id-4\" class=\"sk-toggleable__label sk-toggleable__label-arrow\">CustomTransformer3</label><div class=\"sk-toggleable__content\"><pre>CustomTransformer3(func=&lt;function Type_of_vehicle at 0x00000222E14BEEE0&gt;)</pre></div></div></div><div class=\"sk-item sk-dashed-wrapped\"><div class=\"sk-label-container\"><div class=\"sk-label sk-toggleable\"><input class=\"sk-toggleable__control sk-hidden--visually\" id=\"sk-estimator-id-5\" type=\"checkbox\" ><label for=\"sk-estimator-id-5\" class=\"sk-toggleable__label sk-toggleable__label-arrow\">Encoding_tnf: ColumnTransformer</label><div class=\"sk-toggleable__content\"><pre>ColumnTransformer(remainder=&#x27;passthrough&#x27;,\n",
       "                  transformers=[(&#x27;tnf2&#x27;,\n",
       "                                 OneHotEncoder(drop=&#x27;first&#x27;,\n",
       "                                               handle_unknown=&#x27;ignore&#x27;,\n",
       "                                               sparse_output=False),\n",
       "                                 [&#x27;Weather_conditions&#x27;, &#x27;Type_of_order&#x27;,\n",
       "                                  &#x27;Festival&#x27;, &#x27;City&#x27;])])</pre></div></div></div><div class=\"sk-parallel\"><div class=\"sk-parallel-item\"><div class=\"sk-item\"><div class=\"sk-label-container\"><div class=\"sk-label sk-toggleable\"><input class=\"sk-toggleable__control sk-hidden--visually\" id=\"sk-estimator-id-6\" type=\"checkbox\" ><label for=\"sk-estimator-id-6\" class=\"sk-toggleable__label sk-toggleable__label-arrow\">tnf2</label><div class=\"sk-toggleable__content\"><pre>[&#x27;Weather_conditions&#x27;, &#x27;Type_of_order&#x27;, &#x27;Festival&#x27;, &#x27;City&#x27;]</pre></div></div></div><div class=\"sk-serial\"><div class=\"sk-item\"><div class=\"sk-estimator sk-toggleable\"><input class=\"sk-toggleable__control sk-hidden--visually\" id=\"sk-estimator-id-7\" type=\"checkbox\" ><label for=\"sk-estimator-id-7\" class=\"sk-toggleable__label sk-toggleable__label-arrow\">OneHotEncoder</label><div class=\"sk-toggleable__content\"><pre>OneHotEncoder(drop=&#x27;first&#x27;, handle_unknown=&#x27;ignore&#x27;, sparse_output=False)</pre></div></div></div></div></div></div><div class=\"sk-parallel-item\"><div class=\"sk-item\"><div class=\"sk-label-container\"><div class=\"sk-label sk-toggleable\"><input class=\"sk-toggleable__control sk-hidden--visually\" id=\"sk-estimator-id-8\" type=\"checkbox\" ><label for=\"sk-estimator-id-8\" class=\"sk-toggleable__label sk-toggleable__label-arrow\">remainder</label><div class=\"sk-toggleable__content\"><pre></pre></div></div></div><div class=\"sk-serial\"><div class=\"sk-item\"><div class=\"sk-estimator sk-toggleable\"><input class=\"sk-toggleable__control sk-hidden--visually\" id=\"sk-estimator-id-9\" type=\"checkbox\" ><label for=\"sk-estimator-id-9\" class=\"sk-toggleable__label sk-toggleable__label-arrow\">passthrough</label><div class=\"sk-toggleable__content\"><pre>passthrough</pre></div></div></div></div></div></div></div></div><div class=\"sk-item sk-dashed-wrapped\"><div class=\"sk-label-container\"><div class=\"sk-label sk-toggleable\"><input class=\"sk-toggleable__control sk-hidden--visually\" id=\"sk-estimator-id-10\" type=\"checkbox\" ><label for=\"sk-estimator-id-10\" class=\"sk-toggleable__label sk-toggleable__label-arrow\">scaling_tnf: ColumnTransformer</label><div class=\"sk-toggleable__content\"><pre>ColumnTransformer(remainder=&#x27;passthrough&#x27;,\n",
       "                  transformers=[(&#x27;tnf&#x27;, StandardScaler(), slice(0, 18, None))])</pre></div></div></div><div class=\"sk-parallel\"><div class=\"sk-parallel-item\"><div class=\"sk-item\"><div class=\"sk-label-container\"><div class=\"sk-label sk-toggleable\"><input class=\"sk-toggleable__control sk-hidden--visually\" id=\"sk-estimator-id-11\" type=\"checkbox\" ><label for=\"sk-estimator-id-11\" class=\"sk-toggleable__label sk-toggleable__label-arrow\">tnf</label><div class=\"sk-toggleable__content\"><pre>slice(0, 18, None)</pre></div></div></div><div class=\"sk-serial\"><div class=\"sk-item\"><div class=\"sk-estimator sk-toggleable\"><input class=\"sk-toggleable__control sk-hidden--visually\" id=\"sk-estimator-id-12\" type=\"checkbox\" ><label for=\"sk-estimator-id-12\" class=\"sk-toggleable__label sk-toggleable__label-arrow\">StandardScaler</label><div class=\"sk-toggleable__content\"><pre>StandardScaler()</pre></div></div></div></div></div></div><div class=\"sk-parallel-item\"><div class=\"sk-item\"><div class=\"sk-label-container\"><div class=\"sk-label sk-toggleable\"><input class=\"sk-toggleable__control sk-hidden--visually\" id=\"sk-estimator-id-13\" type=\"checkbox\" ><label for=\"sk-estimator-id-13\" class=\"sk-toggleable__label sk-toggleable__label-arrow\">remainder</label><div class=\"sk-toggleable__content\"><pre></pre></div></div></div><div class=\"sk-serial\"><div class=\"sk-item\"><div class=\"sk-estimator sk-toggleable\"><input class=\"sk-toggleable__control sk-hidden--visually\" id=\"sk-estimator-id-14\" type=\"checkbox\" ><label for=\"sk-estimator-id-14\" class=\"sk-toggleable__label sk-toggleable__label-arrow\">passthrough</label><div class=\"sk-toggleable__content\"><pre>passthrough</pre></div></div></div></div></div></div></div></div><div class=\"sk-item\"><div class=\"sk-estimator sk-toggleable\"><input class=\"sk-toggleable__control sk-hidden--visually\" id=\"sk-estimator-id-15\" type=\"checkbox\" ><label for=\"sk-estimator-id-15\" class=\"sk-toggleable__label sk-toggleable__label-arrow\">LGBMRegressor</label><div class=\"sk-toggleable__content\"><pre>LGBMRegressor(colsample_bytree=0.9769037375988533,\n",
       "              learning_rate=0.05854272296061775, max_depth=18,\n",
       "              min_child_weight=0.7607736996559302, num_leaves=130,\n",
       "              subsample=0.5434350673119992)</pre></div></div></div></div></div></div></div>"
      ],
      "text/plain": [
       "Pipeline(steps=[('custom',\n",
       "                 CustomTransformer(func=<function frequency_encoding at 0x00000222E14BECA0>)),\n",
       "                ('custom2',\n",
       "                 CustomTransformer2(func=<function road_traffic_density at 0x00000222E14BEE50>)),\n",
       "                ('custom3',\n",
       "                 CustomTransformer3(func=<function Type_of_vehicle at 0x00000222E14BEEE0>)),\n",
       "                ('Encoding_tnf',\n",
       "                 ColumnTransformer(remainder='passthrough',\n",
       "                                   transformers=[('tnf2'...\n",
       "                                                  ['Weather_conditions',\n",
       "                                                   'Type_of_order', 'Festival',\n",
       "                                                   'City'])])),\n",
       "                ('scaling_tnf',\n",
       "                 ColumnTransformer(remainder='passthrough',\n",
       "                                   transformers=[('tnf', StandardScaler(),\n",
       "                                                  slice(0, 18, None))])),\n",
       "                ('model',\n",
       "                 LGBMRegressor(colsample_bytree=0.9769037375988533,\n",
       "                               learning_rate=0.05854272296061775, max_depth=18,\n",
       "                               min_child_weight=0.7607736996559302,\n",
       "                               num_leaves=130, subsample=0.5434350673119992))])"
      ]
     },
     "execution_count": 12,
     "metadata": {},
     "output_type": "execute_result"
    }
   ],
   "source": [
    "pipeline"
   ]
  },
  {
   "cell_type": "code",
   "execution_count": 13,
   "metadata": {},
   "outputs": [
    {
     "name": "stderr",
     "output_type": "stream",
     "text": [
      "c:\\Users\\new\\anaconda3\\envs\\EDA_practice\\lib\\site-packages\\sklearn\\utils\\validation.py:1183: DataConversionWarning: A column-vector y was passed when a 1d array was expected. Please change the shape of y to (n_samples, ), for example using ravel().\n",
      "  y = column_or_1d(y, warn=True)\n"
     ]
    },
    {
     "name": "stdout",
     "output_type": "stream",
     "text": [
      "[LightGBM] [Info] Auto-choosing row-wise multi-threading, the overhead of testing was 0.001998 seconds.\n",
      "You can set `force_row_wise=true` to remove the overhead.\n",
      "And if memory is not enough, you can set `force_col_wise=true`.\n",
      "[LightGBM] [Info] Total Bins 512\n",
      "[LightGBM] [Info] Number of data points in the train set: 31908, number of used features: 28\n",
      "[LightGBM] [Info] Start training from score 26.277924\n"
     ]
    },
    {
     "data": {
      "text/html": [
       "<style>#sk-container-id-2 {color: black;}#sk-container-id-2 pre{padding: 0;}#sk-container-id-2 div.sk-toggleable {background-color: white;}#sk-container-id-2 label.sk-toggleable__label {cursor: pointer;display: block;width: 100%;margin-bottom: 0;padding: 0.3em;box-sizing: border-box;text-align: center;}#sk-container-id-2 label.sk-toggleable__label-arrow:before {content: \"▸\";float: left;margin-right: 0.25em;color: #696969;}#sk-container-id-2 label.sk-toggleable__label-arrow:hover:before {color: black;}#sk-container-id-2 div.sk-estimator:hover label.sk-toggleable__label-arrow:before {color: black;}#sk-container-id-2 div.sk-toggleable__content {max-height: 0;max-width: 0;overflow: hidden;text-align: left;background-color: #f0f8ff;}#sk-container-id-2 div.sk-toggleable__content pre {margin: 0.2em;color: black;border-radius: 0.25em;background-color: #f0f8ff;}#sk-container-id-2 input.sk-toggleable__control:checked~div.sk-toggleable__content {max-height: 200px;max-width: 100%;overflow: auto;}#sk-container-id-2 input.sk-toggleable__control:checked~label.sk-toggleable__label-arrow:before {content: \"▾\";}#sk-container-id-2 div.sk-estimator input.sk-toggleable__control:checked~label.sk-toggleable__label {background-color: #d4ebff;}#sk-container-id-2 div.sk-label input.sk-toggleable__control:checked~label.sk-toggleable__label {background-color: #d4ebff;}#sk-container-id-2 input.sk-hidden--visually {border: 0;clip: rect(1px 1px 1px 1px);clip: rect(1px, 1px, 1px, 1px);height: 1px;margin: -1px;overflow: hidden;padding: 0;position: absolute;width: 1px;}#sk-container-id-2 div.sk-estimator {font-family: monospace;background-color: #f0f8ff;border: 1px dotted black;border-radius: 0.25em;box-sizing: border-box;margin-bottom: 0.5em;}#sk-container-id-2 div.sk-estimator:hover {background-color: #d4ebff;}#sk-container-id-2 div.sk-parallel-item::after {content: \"\";width: 100%;border-bottom: 1px solid gray;flex-grow: 1;}#sk-container-id-2 div.sk-label:hover label.sk-toggleable__label {background-color: #d4ebff;}#sk-container-id-2 div.sk-serial::before {content: \"\";position: absolute;border-left: 1px solid gray;box-sizing: border-box;top: 0;bottom: 0;left: 50%;z-index: 0;}#sk-container-id-2 div.sk-serial {display: flex;flex-direction: column;align-items: center;background-color: white;padding-right: 0.2em;padding-left: 0.2em;position: relative;}#sk-container-id-2 div.sk-item {position: relative;z-index: 1;}#sk-container-id-2 div.sk-parallel {display: flex;align-items: stretch;justify-content: center;background-color: white;position: relative;}#sk-container-id-2 div.sk-item::before, #sk-container-id-2 div.sk-parallel-item::before {content: \"\";position: absolute;border-left: 1px solid gray;box-sizing: border-box;top: 0;bottom: 0;left: 50%;z-index: -1;}#sk-container-id-2 div.sk-parallel-item {display: flex;flex-direction: column;z-index: 1;position: relative;background-color: white;}#sk-container-id-2 div.sk-parallel-item:first-child::after {align-self: flex-end;width: 50%;}#sk-container-id-2 div.sk-parallel-item:last-child::after {align-self: flex-start;width: 50%;}#sk-container-id-2 div.sk-parallel-item:only-child::after {width: 0;}#sk-container-id-2 div.sk-dashed-wrapped {border: 1px dashed gray;margin: 0 0.4em 0.5em 0.4em;box-sizing: border-box;padding-bottom: 0.4em;background-color: white;}#sk-container-id-2 div.sk-label label {font-family: monospace;font-weight: bold;display: inline-block;line-height: 1.2em;}#sk-container-id-2 div.sk-label-container {text-align: center;}#sk-container-id-2 div.sk-container {/* jupyter's `normalize.less` sets `[hidden] { display: none; }` but bootstrap.min.css set `[hidden] { display: none !important; }` so we also need the `!important` here to be able to override the default hidden behavior on the sphinx rendered scikit-learn.org. See: https://github.com/scikit-learn/scikit-learn/issues/21755 */display: inline-block !important;position: relative;}#sk-container-id-2 div.sk-text-repr-fallback {display: none;}</style><div id=\"sk-container-id-2\" class=\"sk-top-container\"><div class=\"sk-text-repr-fallback\"><pre>Pipeline(steps=[(&#x27;custom&#x27;,\n",
       "                 CustomTransformer(func=&lt;function frequency_encoding at 0x00000222E14BECA0&gt;)),\n",
       "                (&#x27;custom2&#x27;,\n",
       "                 CustomTransformer2(func=&lt;function road_traffic_density at 0x00000222E14BEE50&gt;)),\n",
       "                (&#x27;custom3&#x27;,\n",
       "                 CustomTransformer3(func=&lt;function Type_of_vehicle at 0x00000222E14BEEE0&gt;)),\n",
       "                (&#x27;Encoding_tnf&#x27;,\n",
       "                 ColumnTransformer(remainder=&#x27;passthrough&#x27;,\n",
       "                                   transformers=[(&#x27;tnf2&#x27;...\n",
       "                                                  [&#x27;Weather_conditions&#x27;,\n",
       "                                                   &#x27;Type_of_order&#x27;, &#x27;Festival&#x27;,\n",
       "                                                   &#x27;City&#x27;])])),\n",
       "                (&#x27;scaling_tnf&#x27;,\n",
       "                 ColumnTransformer(remainder=&#x27;passthrough&#x27;,\n",
       "                                   transformers=[(&#x27;tnf&#x27;, StandardScaler(),\n",
       "                                                  slice(0, 18, None))])),\n",
       "                (&#x27;model&#x27;,\n",
       "                 LGBMRegressor(colsample_bytree=0.9769037375988533,\n",
       "                               learning_rate=0.05854272296061775, max_depth=18,\n",
       "                               min_child_weight=0.7607736996559302,\n",
       "                               num_leaves=130, subsample=0.5434350673119992))])</pre><b>In a Jupyter environment, please rerun this cell to show the HTML representation or trust the notebook. <br />On GitHub, the HTML representation is unable to render, please try loading this page with nbviewer.org.</b></div><div class=\"sk-container\" hidden><div class=\"sk-item sk-dashed-wrapped\"><div class=\"sk-label-container\"><div class=\"sk-label sk-toggleable\"><input class=\"sk-toggleable__control sk-hidden--visually\" id=\"sk-estimator-id-16\" type=\"checkbox\" ><label for=\"sk-estimator-id-16\" class=\"sk-toggleable__label sk-toggleable__label-arrow\">Pipeline</label><div class=\"sk-toggleable__content\"><pre>Pipeline(steps=[(&#x27;custom&#x27;,\n",
       "                 CustomTransformer(func=&lt;function frequency_encoding at 0x00000222E14BECA0&gt;)),\n",
       "                (&#x27;custom2&#x27;,\n",
       "                 CustomTransformer2(func=&lt;function road_traffic_density at 0x00000222E14BEE50&gt;)),\n",
       "                (&#x27;custom3&#x27;,\n",
       "                 CustomTransformer3(func=&lt;function Type_of_vehicle at 0x00000222E14BEEE0&gt;)),\n",
       "                (&#x27;Encoding_tnf&#x27;,\n",
       "                 ColumnTransformer(remainder=&#x27;passthrough&#x27;,\n",
       "                                   transformers=[(&#x27;tnf2&#x27;...\n",
       "                                                  [&#x27;Weather_conditions&#x27;,\n",
       "                                                   &#x27;Type_of_order&#x27;, &#x27;Festival&#x27;,\n",
       "                                                   &#x27;City&#x27;])])),\n",
       "                (&#x27;scaling_tnf&#x27;,\n",
       "                 ColumnTransformer(remainder=&#x27;passthrough&#x27;,\n",
       "                                   transformers=[(&#x27;tnf&#x27;, StandardScaler(),\n",
       "                                                  slice(0, 18, None))])),\n",
       "                (&#x27;model&#x27;,\n",
       "                 LGBMRegressor(colsample_bytree=0.9769037375988533,\n",
       "                               learning_rate=0.05854272296061775, max_depth=18,\n",
       "                               min_child_weight=0.7607736996559302,\n",
       "                               num_leaves=130, subsample=0.5434350673119992))])</pre></div></div></div><div class=\"sk-serial\"><div class=\"sk-item\"><div class=\"sk-estimator sk-toggleable\"><input class=\"sk-toggleable__control sk-hidden--visually\" id=\"sk-estimator-id-17\" type=\"checkbox\" ><label for=\"sk-estimator-id-17\" class=\"sk-toggleable__label sk-toggleable__label-arrow\">CustomTransformer</label><div class=\"sk-toggleable__content\"><pre>CustomTransformer(func=&lt;function frequency_encoding at 0x00000222E14BECA0&gt;)</pre></div></div></div><div class=\"sk-item\"><div class=\"sk-estimator sk-toggleable\"><input class=\"sk-toggleable__control sk-hidden--visually\" id=\"sk-estimator-id-18\" type=\"checkbox\" ><label for=\"sk-estimator-id-18\" class=\"sk-toggleable__label sk-toggleable__label-arrow\">CustomTransformer2</label><div class=\"sk-toggleable__content\"><pre>CustomTransformer2(func=&lt;function road_traffic_density at 0x00000222E14BEE50&gt;)</pre></div></div></div><div class=\"sk-item\"><div class=\"sk-estimator sk-toggleable\"><input class=\"sk-toggleable__control sk-hidden--visually\" id=\"sk-estimator-id-19\" type=\"checkbox\" ><label for=\"sk-estimator-id-19\" class=\"sk-toggleable__label sk-toggleable__label-arrow\">CustomTransformer3</label><div class=\"sk-toggleable__content\"><pre>CustomTransformer3(func=&lt;function Type_of_vehicle at 0x00000222E14BEEE0&gt;)</pre></div></div></div><div class=\"sk-item sk-dashed-wrapped\"><div class=\"sk-label-container\"><div class=\"sk-label sk-toggleable\"><input class=\"sk-toggleable__control sk-hidden--visually\" id=\"sk-estimator-id-20\" type=\"checkbox\" ><label for=\"sk-estimator-id-20\" class=\"sk-toggleable__label sk-toggleable__label-arrow\">Encoding_tnf: ColumnTransformer</label><div class=\"sk-toggleable__content\"><pre>ColumnTransformer(remainder=&#x27;passthrough&#x27;,\n",
       "                  transformers=[(&#x27;tnf2&#x27;,\n",
       "                                 OneHotEncoder(drop=&#x27;first&#x27;,\n",
       "                                               handle_unknown=&#x27;ignore&#x27;,\n",
       "                                               sparse_output=False),\n",
       "                                 [&#x27;Weather_conditions&#x27;, &#x27;Type_of_order&#x27;,\n",
       "                                  &#x27;Festival&#x27;, &#x27;City&#x27;])])</pre></div></div></div><div class=\"sk-parallel\"><div class=\"sk-parallel-item\"><div class=\"sk-item\"><div class=\"sk-label-container\"><div class=\"sk-label sk-toggleable\"><input class=\"sk-toggleable__control sk-hidden--visually\" id=\"sk-estimator-id-21\" type=\"checkbox\" ><label for=\"sk-estimator-id-21\" class=\"sk-toggleable__label sk-toggleable__label-arrow\">tnf2</label><div class=\"sk-toggleable__content\"><pre>[&#x27;Weather_conditions&#x27;, &#x27;Type_of_order&#x27;, &#x27;Festival&#x27;, &#x27;City&#x27;]</pre></div></div></div><div class=\"sk-serial\"><div class=\"sk-item\"><div class=\"sk-estimator sk-toggleable\"><input class=\"sk-toggleable__control sk-hidden--visually\" id=\"sk-estimator-id-22\" type=\"checkbox\" ><label for=\"sk-estimator-id-22\" class=\"sk-toggleable__label sk-toggleable__label-arrow\">OneHotEncoder</label><div class=\"sk-toggleable__content\"><pre>OneHotEncoder(drop=&#x27;first&#x27;, handle_unknown=&#x27;ignore&#x27;, sparse_output=False)</pre></div></div></div></div></div></div><div class=\"sk-parallel-item\"><div class=\"sk-item\"><div class=\"sk-label-container\"><div class=\"sk-label sk-toggleable\"><input class=\"sk-toggleable__control sk-hidden--visually\" id=\"sk-estimator-id-23\" type=\"checkbox\" ><label for=\"sk-estimator-id-23\" class=\"sk-toggleable__label sk-toggleable__label-arrow\">remainder</label><div class=\"sk-toggleable__content\"><pre>[&#x27;Delivery_person_ID&#x27;, &#x27;Delivery_person_Age&#x27;, &#x27;Delivery_person_Ratings&#x27;, &#x27;Road_traffic_density&#x27;, &#x27;Vehicle_condition&#x27;, &#x27;Type_of_vehicle&#x27;, &#x27;multiple_deliveries&#x27;, &#x27;Distance in kms&#x27;, &#x27;Order_Day&#x27;, &#x27;Order_month&#x27;, &#x27;Order_year&#x27;, &#x27;Time_Orderd_Hour&#x27;, &#x27;Time_Orderd_mins&#x27;, &#x27;Time_Order_picked_Hour&#x27;, &#x27;Time_Order_picked_mins&#x27;]</pre></div></div></div><div class=\"sk-serial\"><div class=\"sk-item\"><div class=\"sk-estimator sk-toggleable\"><input class=\"sk-toggleable__control sk-hidden--visually\" id=\"sk-estimator-id-24\" type=\"checkbox\" ><label for=\"sk-estimator-id-24\" class=\"sk-toggleable__label sk-toggleable__label-arrow\">passthrough</label><div class=\"sk-toggleable__content\"><pre>passthrough</pre></div></div></div></div></div></div></div></div><div class=\"sk-item sk-dashed-wrapped\"><div class=\"sk-label-container\"><div class=\"sk-label sk-toggleable\"><input class=\"sk-toggleable__control sk-hidden--visually\" id=\"sk-estimator-id-25\" type=\"checkbox\" ><label for=\"sk-estimator-id-25\" class=\"sk-toggleable__label sk-toggleable__label-arrow\">scaling_tnf: ColumnTransformer</label><div class=\"sk-toggleable__content\"><pre>ColumnTransformer(remainder=&#x27;passthrough&#x27;,\n",
       "                  transformers=[(&#x27;tnf&#x27;, StandardScaler(), slice(0, 18, None))])</pre></div></div></div><div class=\"sk-parallel\"><div class=\"sk-parallel-item\"><div class=\"sk-item\"><div class=\"sk-label-container\"><div class=\"sk-label sk-toggleable\"><input class=\"sk-toggleable__control sk-hidden--visually\" id=\"sk-estimator-id-26\" type=\"checkbox\" ><label for=\"sk-estimator-id-26\" class=\"sk-toggleable__label sk-toggleable__label-arrow\">tnf</label><div class=\"sk-toggleable__content\"><pre>slice(0, 18, None)</pre></div></div></div><div class=\"sk-serial\"><div class=\"sk-item\"><div class=\"sk-estimator sk-toggleable\"><input class=\"sk-toggleable__control sk-hidden--visually\" id=\"sk-estimator-id-27\" type=\"checkbox\" ><label for=\"sk-estimator-id-27\" class=\"sk-toggleable__label sk-toggleable__label-arrow\">StandardScaler</label><div class=\"sk-toggleable__content\"><pre>StandardScaler()</pre></div></div></div></div></div></div><div class=\"sk-parallel-item\"><div class=\"sk-item\"><div class=\"sk-label-container\"><div class=\"sk-label sk-toggleable\"><input class=\"sk-toggleable__control sk-hidden--visually\" id=\"sk-estimator-id-28\" type=\"checkbox\" ><label for=\"sk-estimator-id-28\" class=\"sk-toggleable__label sk-toggleable__label-arrow\">remainder</label><div class=\"sk-toggleable__content\"><pre>[18, 19, 20, 21, 22, 23, 24, 25, 26, 27, 28]</pre></div></div></div><div class=\"sk-serial\"><div class=\"sk-item\"><div class=\"sk-estimator sk-toggleable\"><input class=\"sk-toggleable__control sk-hidden--visually\" id=\"sk-estimator-id-29\" type=\"checkbox\" ><label for=\"sk-estimator-id-29\" class=\"sk-toggleable__label sk-toggleable__label-arrow\">passthrough</label><div class=\"sk-toggleable__content\"><pre>passthrough</pre></div></div></div></div></div></div></div></div><div class=\"sk-item\"><div class=\"sk-estimator sk-toggleable\"><input class=\"sk-toggleable__control sk-hidden--visually\" id=\"sk-estimator-id-30\" type=\"checkbox\" ><label for=\"sk-estimator-id-30\" class=\"sk-toggleable__label sk-toggleable__label-arrow\">LGBMRegressor</label><div class=\"sk-toggleable__content\"><pre>LGBMRegressor(colsample_bytree=0.9769037375988533,\n",
       "              learning_rate=0.05854272296061775, max_depth=18,\n",
       "              min_child_weight=0.7607736996559302, num_leaves=130,\n",
       "              subsample=0.5434350673119992)</pre></div></div></div></div></div></div></div>"
      ],
      "text/plain": [
       "Pipeline(steps=[('custom',\n",
       "                 CustomTransformer(func=<function frequency_encoding at 0x00000222E14BECA0>)),\n",
       "                ('custom2',\n",
       "                 CustomTransformer2(func=<function road_traffic_density at 0x00000222E14BEE50>)),\n",
       "                ('custom3',\n",
       "                 CustomTransformer3(func=<function Type_of_vehicle at 0x00000222E14BEEE0>)),\n",
       "                ('Encoding_tnf',\n",
       "                 ColumnTransformer(remainder='passthrough',\n",
       "                                   transformers=[('tnf2'...\n",
       "                                                  ['Weather_conditions',\n",
       "                                                   'Type_of_order', 'Festival',\n",
       "                                                   'City'])])),\n",
       "                ('scaling_tnf',\n",
       "                 ColumnTransformer(remainder='passthrough',\n",
       "                                   transformers=[('tnf', StandardScaler(),\n",
       "                                                  slice(0, 18, None))])),\n",
       "                ('model',\n",
       "                 LGBMRegressor(colsample_bytree=0.9769037375988533,\n",
       "                               learning_rate=0.05854272296061775, max_depth=18,\n",
       "                               min_child_weight=0.7607736996559302,\n",
       "                               num_leaves=130, subsample=0.5434350673119992))])"
      ]
     },
     "execution_count": 13,
     "metadata": {},
     "output_type": "execute_result"
    }
   ],
   "source": [
    "pipeline.fit(X_train,y_train)"
   ]
  },
  {
   "cell_type": "code",
   "execution_count": 13,
   "metadata": {},
   "outputs": [],
   "source": [
    "y_pred_train=pipeline.predict(X_train)"
   ]
  },
  {
   "cell_type": "code",
   "execution_count": 14,
   "metadata": {},
   "outputs": [],
   "source": [
    "y_pred_test=pipeline.predict(X_test)"
   ]
  },
  {
   "cell_type": "code",
   "execution_count": 24,
   "metadata": {},
   "outputs": [
    {
     "data": {
      "text/plain": [
       "Index(['Delivery_person_ID', 'Delivery_person_Age', 'Delivery_person_Ratings',\n",
       "       'Weather_conditions', 'Road_traffic_density', 'Vehicle_condition',\n",
       "       'Type_of_order', 'Type_of_vehicle', 'multiple_deliveries', 'Festival',\n",
       "       'City', 'Distance in kms', 'Order_Day', 'Order_month', 'Order_year',\n",
       "       'Time_Orderd_Hour', 'Time_Orderd_mins', 'Time_Order_picked_Hour',\n",
       "       'Time_Order_picked_mins'],\n",
       "      dtype='object')"
      ]
     },
     "execution_count": 24,
     "metadata": {},
     "output_type": "execute_result"
    }
   ],
   "source": [
    "X_train.columns"
   ]
  },
  {
   "cell_type": "code",
   "execution_count": 26,
   "metadata": {},
   "outputs": [
    {
     "data": {
      "text/html": [
       "<div>\n",
       "<style scoped>\n",
       "    .dataframe tbody tr th:only-of-type {\n",
       "        vertical-align: middle;\n",
       "    }\n",
       "\n",
       "    .dataframe tbody tr th {\n",
       "        vertical-align: top;\n",
       "    }\n",
       "\n",
       "    .dataframe thead th {\n",
       "        text-align: right;\n",
       "    }\n",
       "</style>\n",
       "<table border=\"1\" class=\"dataframe\">\n",
       "  <thead>\n",
       "    <tr style=\"text-align: right;\">\n",
       "      <th></th>\n",
       "      <th>Delivery_person_ID</th>\n",
       "      <th>Delivery_person_Age</th>\n",
       "      <th>Delivery_person_Ratings</th>\n",
       "      <th>Weather_conditions</th>\n",
       "      <th>Road_traffic_density</th>\n",
       "      <th>Vehicle_condition</th>\n",
       "      <th>Type_of_order</th>\n",
       "      <th>Type_of_vehicle</th>\n",
       "      <th>multiple_deliveries</th>\n",
       "      <th>Festival</th>\n",
       "      <th>City</th>\n",
       "      <th>Distance in kms</th>\n",
       "      <th>Order_Day</th>\n",
       "      <th>Order_month</th>\n",
       "      <th>Order_year</th>\n",
       "      <th>Time_Orderd_Hour</th>\n",
       "      <th>Time_Orderd_mins</th>\n",
       "      <th>Time_Order_picked_Hour</th>\n",
       "      <th>Time_Order_picked_mins</th>\n",
       "    </tr>\n",
       "  </thead>\n",
       "  <tbody>\n",
       "    <tr>\n",
       "      <th>0</th>\n",
       "      <td>DEHRES17DEL01</td>\n",
       "      <td>36.0</td>\n",
       "      <td>4.2</td>\n",
       "      <td>Fog</td>\n",
       "      <td>Jam</td>\n",
       "      <td>2</td>\n",
       "      <td>Snack</td>\n",
       "      <td>motorcycle</td>\n",
       "      <td>3.0</td>\n",
       "      <td>No</td>\n",
       "      <td>Metropolitian</td>\n",
       "      <td>10.3</td>\n",
       "      <td>12</td>\n",
       "      <td>2</td>\n",
       "      <td>2022</td>\n",
       "      <td>21.0</td>\n",
       "      <td>55.0</td>\n",
       "      <td>22.0</td>\n",
       "      <td>10.0</td>\n",
       "    </tr>\n",
       "  </tbody>\n",
       "</table>\n",
       "</div>"
      ],
      "text/plain": [
       "  Delivery_person_ID  Delivery_person_Age  Delivery_person_Ratings  \\\n",
       "0      DEHRES17DEL01                 36.0                      4.2   \n",
       "\n",
       "  Weather_conditions Road_traffic_density  Vehicle_condition Type_of_order  \\\n",
       "0                Fog                  Jam                  2         Snack   \n",
       "\n",
       "  Type_of_vehicle  multiple_deliveries Festival           City  \\\n",
       "0      motorcycle                  3.0       No  Metropolitian   \n",
       "\n",
       "   Distance in kms  Order_Day  Order_month  Order_year  Time_Orderd_Hour  \\\n",
       "0             10.3         12            2        2022              21.0   \n",
       "\n",
       "   Time_Orderd_mins  Time_Order_picked_Hour  Time_Order_picked_mins  \n",
       "0              55.0                    22.0                    10.0  "
      ]
     },
     "execution_count": 26,
     "metadata": {},
     "output_type": "execute_result"
    }
   ],
   "source": [
    "\n",
    "# Specified columns\n",
    "columns = ['Delivery_person_ID', 'Delivery_person_Age', 'Delivery_person_Ratings',\n",
    "           'Weather_conditions', 'Road_traffic_density', 'Vehicle_condition',\n",
    "           'Type_of_order', 'Type_of_vehicle', 'multiple_deliveries', 'Festival',\n",
    "           'City', 'Distance in kms', 'Order_Day', 'Order_month', 'Order_year',\n",
    "           'Time_Orderd_Hour', 'Time_Orderd_mins', 'Time_Order_picked_Hour',\n",
    "           'Time_Order_picked_mins']\n",
    "\n",
    "# Provided data\n",
    "data = [\"DEHRES17DEL01\", 36.0, 4.2, \"Fog\", \"Jam\", 2, \"Snack\", \"motorcycle\", 3.0, \"No\", \n",
    "        \"Metropolitian\", 10.3, 12, 2, 2022, 21.0, 55.0, 22.0, 10.0]\n",
    "\n",
    "# Creating the DataFrame\n",
    "test = pd.DataFrame([data], columns=columns)\n",
    "test\n"
   ]
  },
  {
   "cell_type": "code",
   "execution_count": 27,
   "metadata": {},
   "outputs": [
    {
     "data": {
      "text/plain": [
       "array([46.85292496])"
      ]
     },
     "execution_count": 27,
     "metadata": {},
     "output_type": "execute_result"
    }
   ],
   "source": [
    "pipeline.predict(test)"
   ]
  },
  {
   "cell_type": "markdown",
   "metadata": {},
   "source": [
    "## Performance metrics"
   ]
  },
  {
   "cell_type": "code",
   "execution_count": 15,
   "metadata": {},
   "outputs": [],
   "source": [
    "from sklearn.metrics import r2_score"
   ]
  },
  {
   "cell_type": "code",
   "execution_count": 16,
   "metadata": {},
   "outputs": [
    {
     "data": {
      "text/plain": [
       "0.8646819704397941"
      ]
     },
     "execution_count": 16,
     "metadata": {},
     "output_type": "execute_result"
    }
   ],
   "source": [
    "r2_score(y_train,y_pred_train)#training dataset"
   ]
  },
  {
   "cell_type": "code",
   "execution_count": 17,
   "metadata": {},
   "outputs": [
    {
     "data": {
      "text/plain": [
       "0.8287061475261381"
      ]
     },
     "execution_count": 17,
     "metadata": {},
     "output_type": "execute_result"
    }
   ],
   "source": [
    "r2_score(y_test,y_pred_test)#test dataset"
   ]
  },
  {
   "cell_type": "code",
   "execution_count": 19,
   "metadata": {},
   "outputs": [
    {
     "data": {
      "text/plain": [
       "20"
      ]
     },
     "execution_count": 19,
     "metadata": {},
     "output_type": "execute_result"
    }
   ],
   "source": [
    "df.shape[1]"
   ]
  },
  {
   "cell_type": "code",
   "execution_count": 18,
   "metadata": {},
   "outputs": [
    {
     "name": "stdout",
     "output_type": "stream",
     "text": [
      "Adjusted R^2 score: 0.864622572230914\n"
     ]
    }
   ],
   "source": [
    "#Training dataset values\n",
    "# Given values\n",
    "r2score = r2_score(y_train,y_pred_train)\n",
    "n = df.shape[0]\n",
    "p = df.shape[1]\n",
    "\n",
    "# Calculate adjusted R^2\n",
    "adjusted_r2_score = 1 - ((1 - r2score) * (n - 1) / (n - p - 1))\n",
    "\n",
    "# Print the result\n",
    "print(f\"Adjusted R^2 score: {adjusted_r2_score}\")\n"
   ]
  },
  {
   "cell_type": "code",
   "execution_count": 19,
   "metadata": {},
   "outputs": [
    {
     "name": "stdout",
     "output_type": "stream",
     "text": [
      "Adjusted R^2 score: 0.828630957634132\n"
     ]
    }
   ],
   "source": [
    "#Testing dataset values\n",
    "# Given values\n",
    "r2score = r2_score(y_test,y_pred_test)\n",
    "n = df.shape[0]\n",
    "p = df.shape[1]\n",
    "\n",
    "# Calculate adjusted R^2\n",
    "adjusted_r2_score = 1 - ((1 - r2score) * (n - 1) / (n - p - 1))\n",
    "\n",
    "# Print the result\n",
    "print(f\"Adjusted R^2 score: {adjusted_r2_score}\")\n"
   ]
  },
  {
   "cell_type": "code",
   "execution_count": 22,
   "metadata": {},
   "outputs": [
    {
     "data": {
      "text/plain": [
       "0.828630957634132"
      ]
     },
     "execution_count": 22,
     "metadata": {},
     "output_type": "execute_result"
    }
   ],
   "source": [
    "adjusted_r2_score"
   ]
  },
  {
   "cell_type": "markdown",
   "metadata": {},
   "source": [
    "## Errors"
   ]
  },
  {
   "cell_type": "code",
   "execution_count": 19,
   "metadata": {},
   "outputs": [
    {
     "name": "stdout",
     "output_type": "stream",
     "text": [
      "MSE : 11.897797332161808\n",
      "RMSE : 3.449318386603621\n",
      "MAE : 2.787986794601539\n",
      "MAP : 0.12167247469759274\n"
     ]
    }
   ],
   "source": [
    "#Training dataset\n",
    "\n",
    "from sklearn.metrics import mean_squared_error,mean_absolute_percentage_error,mean_absolute_error\n",
    "print(f\"MSE : {mean_squared_error(y_train,y_pred_train)}\")\n",
    "print(f\"RMSE : {np.sqrt(mean_squared_error(y_train,y_pred_train))}\")\n",
    "print(f\"MAE : {mean_absolute_error(y_train,y_pred_train)}\")\n",
    "print(f\"MAP : {mean_absolute_percentage_error(y_train,y_pred_train)}\")"
   ]
  },
  {
   "cell_type": "code",
   "execution_count": 20,
   "metadata": {},
   "outputs": [
    {
     "name": "stdout",
     "output_type": "stream",
     "text": [
      "MSE : 15.139643199604283\n",
      "RMSE : 3.8909694421319068\n",
      "MAE : 3.1040412018774894\n",
      "MAP : 0.13505572837356664\n"
     ]
    }
   ],
   "source": [
    "#Testing dataset\n",
    "\n",
    "from sklearn.metrics import mean_squared_error,mean_absolute_percentage_error,mean_absolute_error\n",
    "print(f\"MSE : {mean_squared_error(y_test,y_pred_test)}\")\n",
    "print(f\"RMSE : {np.sqrt(mean_squared_error(y_test,y_pred_test))}\")\n",
    "print(f\"MAE : {mean_absolute_error(y_test,y_pred_test)}\")\n",
    "print(f\"MAP : {mean_absolute_percentage_error(y_test,y_pred_test)}\")"
   ]
  },
  {
   "cell_type": "code",
   "execution_count": 105,
   "metadata": {},
   "outputs": [
    {
     "data": {
      "image/png": "[encoded data removed]",
      "text/plain": [
       "<Figure size 1000x800 with 2 Axes>"
      ]
     },
     "metadata": {},
     "output_type": "display_data"
    }
   ],
   "source": [
    "import seaborn as sns\n",
    "import matplotlib.pyplot as plt\n",
    "import numpy as np\n",
    "import pandas as pd\n",
    "\n",
    "# Assuming df is your DataFrame\n",
    "corr = np.round(df1.select_dtypes(exclude='object').corr(), 2)\n",
    "\n",
    "# Create a figure with specific size\n",
    "plt.figure(figsize=(10, 8))  # Adjust width and height as needed\n",
    "\n",
    "# Plot the heatmap\n",
    "sns.heatmap(corr, annot=True, cmap='coolwarm')\n",
    "\n",
    "# Show the plot\n",
    "plt.show()"
   ]
  },
  {
   "cell_type": "code",
   "execution_count": 97,
   "metadata": {},
   "outputs": [
    {
     "data": {
      "text/html": [
       "<div>\n",
       "<style scoped>\n",
       "    .dataframe tbody tr th:only-of-type {\n",
       "        vertical-align: middle;\n",
       "    }\n",
       "\n",
       "    .dataframe tbody tr th {\n",
       "        vertical-align: top;\n",
       "    }\n",
       "\n",
       "    .dataframe thead th {\n",
       "        text-align: right;\n",
       "    }\n",
       "</style>\n",
       "<table border=\"1\" class=\"dataframe\">\n",
       "  <thead>\n",
       "    <tr style=\"text-align: right;\">\n",
       "      <th></th>\n",
       "      <th>Delivery_person_Age</th>\n",
       "      <th>Delivery_person_Ratings</th>\n",
       "      <th>Vehicle_condition</th>\n",
       "      <th>multiple_deliveries</th>\n",
       "      <th>Time_taken (min)</th>\n",
       "      <th>Distance in kms</th>\n",
       "      <th>Order_Day</th>\n",
       "      <th>Order_month</th>\n",
       "      <th>Order_year</th>\n",
       "      <th>Time_Orderd_Hour</th>\n",
       "      <th>Time_Orderd_mins</th>\n",
       "      <th>Time_Order_picked_Hour</th>\n",
       "      <th>Time_Order_picked_mins</th>\n",
       "    </tr>\n",
       "  </thead>\n",
       "  <tbody>\n",
       "    <tr>\n",
       "      <th>Delivery_person_Age</th>\n",
       "      <td>33.81</td>\n",
       "      <td>-0.13</td>\n",
       "      <td>0.02</td>\n",
       "      <td>0.39</td>\n",
       "      <td>16.32</td>\n",
       "      <td>127.50</td>\n",
       "      <td>0.16</td>\n",
       "      <td>-0.02</td>\n",
       "      <td>0.0</td>\n",
       "      <td>0.03</td>\n",
       "      <td>0.06</td>\n",
       "      <td>-0.02</td>\n",
       "      <td>0.84</td>\n",
       "    </tr>\n",
       "    <tr>\n",
       "      <th>Delivery_person_Ratings</th>\n",
       "      <td>-0.13</td>\n",
       "      <td>0.11</td>\n",
       "      <td>0.01</td>\n",
       "      <td>-0.02</td>\n",
       "      <td>-1.06</td>\n",
       "      <td>-0.27</td>\n",
       "      <td>-0.02</td>\n",
       "      <td>-0.00</td>\n",
       "      <td>0.0</td>\n",
       "      <td>-0.10</td>\n",
       "      <td>0.02</td>\n",
       "      <td>-0.09</td>\n",
       "      <td>-0.01</td>\n",
       "    </tr>\n",
       "    <tr>\n",
       "      <th>Vehicle_condition</th>\n",
       "      <td>0.02</td>\n",
       "      <td>0.01</td>\n",
       "      <td>0.70</td>\n",
       "      <td>-0.05</td>\n",
       "      <td>-1.85</td>\n",
       "      <td>85.24</td>\n",
       "      <td>0.01</td>\n",
       "      <td>0.00</td>\n",
       "      <td>0.0</td>\n",
       "      <td>0.01</td>\n",
       "      <td>-0.04</td>\n",
       "      <td>0.04</td>\n",
       "      <td>0.09</td>\n",
       "    </tr>\n",
       "    <tr>\n",
       "      <th>multiple_deliveries</th>\n",
       "      <td>0.39</td>\n",
       "      <td>-0.02</td>\n",
       "      <td>-0.05</td>\n",
       "      <td>0.33</td>\n",
       "      <td>2.08</td>\n",
       "      <td>0.59</td>\n",
       "      <td>0.08</td>\n",
       "      <td>-0.00</td>\n",
       "      <td>0.0</td>\n",
       "      <td>0.19</td>\n",
       "      <td>0.05</td>\n",
       "      <td>0.22</td>\n",
       "      <td>-0.05</td>\n",
       "    </tr>\n",
       "    <tr>\n",
       "      <th>Time_taken (min)</th>\n",
       "      <td>16.32</td>\n",
       "      <td>-1.06</td>\n",
       "      <td>-1.85</td>\n",
       "      <td>2.08</td>\n",
       "      <td>88.07</td>\n",
       "      <td>-25.83</td>\n",
       "      <td>1.96</td>\n",
       "      <td>-0.06</td>\n",
       "      <td>0.0</td>\n",
       "      <td>8.10</td>\n",
       "      <td>0.66</td>\n",
       "      <td>9.68</td>\n",
       "      <td>-0.56</td>\n",
       "    </tr>\n",
       "    <tr>\n",
       "      <th>Distance in kms</th>\n",
       "      <td>127.50</td>\n",
       "      <td>-0.27</td>\n",
       "      <td>85.24</td>\n",
       "      <td>0.59</td>\n",
       "      <td>-25.83</td>\n",
       "      <td>1209645.36</td>\n",
       "      <td>-5.94</td>\n",
       "      <td>-20.53</td>\n",
       "      <td>0.0</td>\n",
       "      <td>18.55</td>\n",
       "      <td>14.05</td>\n",
       "      <td>19.80</td>\n",
       "      <td>122.05</td>\n",
       "    </tr>\n",
       "    <tr>\n",
       "      <th>Order_Day</th>\n",
       "      <td>0.16</td>\n",
       "      <td>-0.02</td>\n",
       "      <td>0.01</td>\n",
       "      <td>0.08</td>\n",
       "      <td>1.96</td>\n",
       "      <td>-5.94</td>\n",
       "      <td>75.84</td>\n",
       "      <td>-1.55</td>\n",
       "      <td>0.0</td>\n",
       "      <td>1.38</td>\n",
       "      <td>0.61</td>\n",
       "      <td>1.44</td>\n",
       "      <td>0.18</td>\n",
       "    </tr>\n",
       "    <tr>\n",
       "      <th>Order_month</th>\n",
       "      <td>-0.02</td>\n",
       "      <td>-0.00</td>\n",
       "      <td>0.00</td>\n",
       "      <td>-0.00</td>\n",
       "      <td>-0.06</td>\n",
       "      <td>-20.53</td>\n",
       "      <td>-1.55</td>\n",
       "      <td>0.30</td>\n",
       "      <td>0.0</td>\n",
       "      <td>-0.02</td>\n",
       "      <td>0.01</td>\n",
       "      <td>-0.02</td>\n",
       "      <td>-0.02</td>\n",
       "    </tr>\n",
       "    <tr>\n",
       "      <th>Order_year</th>\n",
       "      <td>0.00</td>\n",
       "      <td>0.00</td>\n",
       "      <td>0.00</td>\n",
       "      <td>0.00</td>\n",
       "      <td>0.00</td>\n",
       "      <td>0.00</td>\n",
       "      <td>0.00</td>\n",
       "      <td>0.00</td>\n",
       "      <td>0.0</td>\n",
       "      <td>0.00</td>\n",
       "      <td>0.00</td>\n",
       "      <td>0.00</td>\n",
       "      <td>0.00</td>\n",
       "    </tr>\n",
       "    <tr>\n",
       "      <th>Time_Orderd_Hour</th>\n",
       "      <td>0.03</td>\n",
       "      <td>-0.10</td>\n",
       "      <td>0.01</td>\n",
       "      <td>0.19</td>\n",
       "      <td>8.10</td>\n",
       "      <td>18.55</td>\n",
       "      <td>1.38</td>\n",
       "      <td>-0.02</td>\n",
       "      <td>0.0</td>\n",
       "      <td>22.36</td>\n",
       "      <td>2.63</td>\n",
       "      <td>19.86</td>\n",
       "      <td>1.84</td>\n",
       "    </tr>\n",
       "    <tr>\n",
       "      <th>Time_Orderd_mins</th>\n",
       "      <td>0.06</td>\n",
       "      <td>0.02</td>\n",
       "      <td>-0.04</td>\n",
       "      <td>0.05</td>\n",
       "      <td>0.66</td>\n",
       "      <td>14.05</td>\n",
       "      <td>0.61</td>\n",
       "      <td>0.01</td>\n",
       "      <td>0.0</td>\n",
       "      <td>2.63</td>\n",
       "      <td>251.51</td>\n",
       "      <td>-3.08</td>\n",
       "      <td>22.84</td>\n",
       "    </tr>\n",
       "    <tr>\n",
       "      <th>Time_Order_picked_Hour</th>\n",
       "      <td>-0.02</td>\n",
       "      <td>-0.09</td>\n",
       "      <td>0.04</td>\n",
       "      <td>0.22</td>\n",
       "      <td>9.68</td>\n",
       "      <td>19.80</td>\n",
       "      <td>1.44</td>\n",
       "      <td>-0.02</td>\n",
       "      <td>0.0</td>\n",
       "      <td>19.86</td>\n",
       "      <td>-3.08</td>\n",
       "      <td>27.50</td>\n",
       "      <td>8.59</td>\n",
       "    </tr>\n",
       "    <tr>\n",
       "      <th>Time_Order_picked_mins</th>\n",
       "      <td>0.84</td>\n",
       "      <td>-0.01</td>\n",
       "      <td>0.09</td>\n",
       "      <td>-0.05</td>\n",
       "      <td>-0.56</td>\n",
       "      <td>122.05</td>\n",
       "      <td>0.18</td>\n",
       "      <td>-0.02</td>\n",
       "      <td>0.0</td>\n",
       "      <td>1.84</td>\n",
       "      <td>22.84</td>\n",
       "      <td>8.59</td>\n",
       "      <td>288.17</td>\n",
       "    </tr>\n",
       "  </tbody>\n",
       "</table>\n",
       "</div>"
      ],
      "text/plain": [
       "                         Delivery_person_Age  Delivery_person_Ratings  \\\n",
       "Delivery_person_Age                    33.81                    -0.13   \n",
       "Delivery_person_Ratings                -0.13                     0.11   \n",
       "Vehicle_condition                       0.02                     0.01   \n",
       "multiple_deliveries                     0.39                    -0.02   \n",
       "Time_taken (min)                       16.32                    -1.06   \n",
       "Distance in kms                       127.50                    -0.27   \n",
       "Order_Day                               0.16                    -0.02   \n",
       "Order_month                            -0.02                    -0.00   \n",
       "Order_year                              0.00                     0.00   \n",
       "Time_Orderd_Hour                        0.03                    -0.10   \n",
       "Time_Orderd_mins                        0.06                     0.02   \n",
       "Time_Order_picked_Hour                 -0.02                    -0.09   \n",
       "Time_Order_picked_mins                  0.84                    -0.01   \n",
       "\n",
       "                         Vehicle_condition  multiple_deliveries  \\\n",
       "Delivery_person_Age                   0.02                 0.39   \n",
       "Delivery_person_Ratings               0.01                -0.02   \n",
       "Vehicle_condition                     0.70                -0.05   \n",
       "multiple_deliveries                  -0.05                 0.33   \n",
       "Time_taken (min)                     -1.85                 2.08   \n",
       "Distance in kms                      85.24                 0.59   \n",
       "Order_Day                             0.01                 0.08   \n",
       "Order_month                           0.00                -0.00   \n",
       "Order_year                            0.00                 0.00   \n",
       "Time_Orderd_Hour                      0.01                 0.19   \n",
       "Time_Orderd_mins                     -0.04                 0.05   \n",
       "Time_Order_picked_Hour                0.04                 0.22   \n",
       "Time_Order_picked_mins                0.09                -0.05   \n",
       "\n",
       "                         Time_taken (min)  Distance in kms  Order_Day  \\\n",
       "Delivery_person_Age                 16.32           127.50       0.16   \n",
       "Delivery_person_Ratings             -1.06            -0.27      -0.02   \n",
       "Vehicle_condition                   -1.85            85.24       0.01   \n",
       "multiple_deliveries                  2.08             0.59       0.08   \n",
       "Time_taken (min)                    88.07           -25.83       1.96   \n",
       "Distance in kms                    -25.83       1209645.36      -5.94   \n",
       "Order_Day                            1.96            -5.94      75.84   \n",
       "Order_month                         -0.06           -20.53      -1.55   \n",
       "Order_year                           0.00             0.00       0.00   \n",
       "Time_Orderd_Hour                     8.10            18.55       1.38   \n",
       "Time_Orderd_mins                     0.66            14.05       0.61   \n",
       "Time_Order_picked_Hour               9.68            19.80       1.44   \n",
       "Time_Order_picked_mins              -0.56           122.05       0.18   \n",
       "\n",
       "                         Order_month  Order_year  Time_Orderd_Hour  \\\n",
       "Delivery_person_Age            -0.02         0.0              0.03   \n",
       "Delivery_person_Ratings        -0.00         0.0             -0.10   \n",
       "Vehicle_condition               0.00         0.0              0.01   \n",
       "multiple_deliveries            -0.00         0.0              0.19   \n",
       "Time_taken (min)               -0.06         0.0              8.10   \n",
       "Distance in kms               -20.53         0.0             18.55   \n",
       "Order_Day                      -1.55         0.0              1.38   \n",
       "Order_month                     0.30         0.0             -0.02   \n",
       "Order_year                      0.00         0.0              0.00   \n",
       "Time_Orderd_Hour               -0.02         0.0             22.36   \n",
       "Time_Orderd_mins                0.01         0.0              2.63   \n",
       "Time_Order_picked_Hour         -0.02         0.0             19.86   \n",
       "Time_Order_picked_mins         -0.02         0.0              1.84   \n",
       "\n",
       "                         Time_Orderd_mins  Time_Order_picked_Hour  \\\n",
       "Delivery_person_Age                  0.06                   -0.02   \n",
       "Delivery_person_Ratings              0.02                   -0.09   \n",
       "Vehicle_condition                   -0.04                    0.04   \n",
       "multiple_deliveries                  0.05                    0.22   \n",
       "Time_taken (min)                     0.66                    9.68   \n",
       "Distance in kms                     14.05                   19.80   \n",
       "Order_Day                            0.61                    1.44   \n",
       "Order_month                          0.01                   -0.02   \n",
       "Order_year                           0.00                    0.00   \n",
       "Time_Orderd_Hour                     2.63                   19.86   \n",
       "Time_Orderd_mins                   251.51                   -3.08   \n",
       "Time_Order_picked_Hour              -3.08                   27.50   \n",
       "Time_Order_picked_mins              22.84                    8.59   \n",
       "\n",
       "                         Time_Order_picked_mins  \n",
       "Delivery_person_Age                        0.84  \n",
       "Delivery_person_Ratings                   -0.01  \n",
       "Vehicle_condition                          0.09  \n",
       "multiple_deliveries                       -0.05  \n",
       "Time_taken (min)                          -0.56  \n",
       "Distance in kms                          122.05  \n",
       "Order_Day                                  0.18  \n",
       "Order_month                               -0.02  \n",
       "Order_year                                 0.00  \n",
       "Time_Orderd_Hour                           1.84  \n",
       "Time_Orderd_mins                          22.84  \n",
       "Time_Order_picked_Hour                     8.59  \n",
       "Time_Order_picked_mins                   288.17  "
      ]
     },
     "execution_count": 97,
     "metadata": {},
     "output_type": "execute_result"
    }
   ],
   "source": [
    "np.round(df.select_dtypes(exclude='object').cov(),2)"
   ]
  },
  {
   "cell_type": "code",
   "execution_count": 24,
   "metadata": {},
   "outputs": [
    {
     "data": {
      "text/html": [
       "<style>#sk-container-id-3 {color: black;}#sk-container-id-3 pre{padding: 0;}#sk-container-id-3 div.sk-toggleable {background-color: white;}#sk-container-id-3 label.sk-toggleable__label {cursor: pointer;display: block;width: 100%;margin-bottom: 0;padding: 0.3em;box-sizing: border-box;text-align: center;}#sk-container-id-3 label.sk-toggleable__label-arrow:before {content: \"▸\";float: left;margin-right: 0.25em;color: #696969;}#sk-container-id-3 label.sk-toggleable__label-arrow:hover:before {color: black;}#sk-container-id-3 div.sk-estimator:hover label.sk-toggleable__label-arrow:before {color: black;}#sk-container-id-3 div.sk-toggleable__content {max-height: 0;max-width: 0;overflow: hidden;text-align: left;background-color: #f0f8ff;}#sk-container-id-3 div.sk-toggleable__content pre {margin: 0.2em;color: black;border-radius: 0.25em;background-color: #f0f8ff;}#sk-container-id-3 input.sk-toggleable__control:checked~div.sk-toggleable__content {max-height: 200px;max-width: 100%;overflow: auto;}#sk-container-id-3 input.sk-toggleable__control:checked~label.sk-toggleable__label-arrow:before {content: \"▾\";}#sk-container-id-3 div.sk-estimator input.sk-toggleable__control:checked~label.sk-toggleable__label {background-color: #d4ebff;}#sk-container-id-3 div.sk-label input.sk-toggleable__control:checked~label.sk-toggleable__label {background-color: #d4ebff;}#sk-container-id-3 input.sk-hidden--visually {border: 0;clip: rect(1px 1px 1px 1px);clip: rect(1px, 1px, 1px, 1px);height: 1px;margin: -1px;overflow: hidden;padding: 0;position: absolute;width: 1px;}#sk-container-id-3 div.sk-estimator {font-family: monospace;background-color: #f0f8ff;border: 1px dotted black;border-radius: 0.25em;box-sizing: border-box;margin-bottom: 0.5em;}#sk-container-id-3 div.sk-estimator:hover {background-color: #d4ebff;}#sk-container-id-3 div.sk-parallel-item::after {content: \"\";width: 100%;border-bottom: 1px solid gray;flex-grow: 1;}#sk-container-id-3 div.sk-label:hover label.sk-toggleable__label {background-color: #d4ebff;}#sk-container-id-3 div.sk-serial::before {content: \"\";position: absolute;border-left: 1px solid gray;box-sizing: border-box;top: 0;bottom: 0;left: 50%;z-index: 0;}#sk-container-id-3 div.sk-serial {display: flex;flex-direction: column;align-items: center;background-color: white;padding-right: 0.2em;padding-left: 0.2em;position: relative;}#sk-container-id-3 div.sk-item {position: relative;z-index: 1;}#sk-container-id-3 div.sk-parallel {display: flex;align-items: stretch;justify-content: center;background-color: white;position: relative;}#sk-container-id-3 div.sk-item::before, #sk-container-id-3 div.sk-parallel-item::before {content: \"\";position: absolute;border-left: 1px solid gray;box-sizing: border-box;top: 0;bottom: 0;left: 50%;z-index: -1;}#sk-container-id-3 div.sk-parallel-item {display: flex;flex-direction: column;z-index: 1;position: relative;background-color: white;}#sk-container-id-3 div.sk-parallel-item:first-child::after {align-self: flex-end;width: 50%;}#sk-container-id-3 div.sk-parallel-item:last-child::after {align-self: flex-start;width: 50%;}#sk-container-id-3 div.sk-parallel-item:only-child::after {width: 0;}#sk-container-id-3 div.sk-dashed-wrapped {border: 1px dashed gray;margin: 0 0.4em 0.5em 0.4em;box-sizing: border-box;padding-bottom: 0.4em;background-color: white;}#sk-container-id-3 div.sk-label label {font-family: monospace;font-weight: bold;display: inline-block;line-height: 1.2em;}#sk-container-id-3 div.sk-label-container {text-align: center;}#sk-container-id-3 div.sk-container {/* jupyter's `normalize.less` sets `[hidden] { display: none; }` but bootstrap.min.css set `[hidden] { display: none !important; }` so we also need the `!important` here to be able to override the default hidden behavior on the sphinx rendered scikit-learn.org. See: https://github.com/scikit-learn/scikit-learn/issues/21755 */display: inline-block !important;position: relative;}#sk-container-id-3 div.sk-text-repr-fallback {display: none;}</style><div id=\"sk-container-id-3\" class=\"sk-top-container\"><div class=\"sk-text-repr-fallback\"><pre>Pipeline(steps=[(&#x27;custom&#x27;,\n",
       "                 CustomTransformer(func=&lt;function frequency_encoding at 0x000001E6FE7309D0&gt;)),\n",
       "                (&#x27;custom2&#x27;,\n",
       "                 CustomTransformer2(func=&lt;function road_traffic_density at 0x000001E6CFCFA940&gt;)),\n",
       "                (&#x27;custom3&#x27;,\n",
       "                 CustomTransformer3(func=&lt;function Type_of_vehicle at 0x000001E6CFCFA9D0&gt;)),\n",
       "                (&#x27;Encoding_tnf&#x27;,\n",
       "                 ColumnTransformer(remainder=&#x27;passthrough&#x27;,\n",
       "                                   transformers=[(&#x27;tnf2&#x27;...\n",
       "                                                  [&#x27;Weather_conditions&#x27;,\n",
       "                                                   &#x27;Type_of_order&#x27;, &#x27;Festival&#x27;,\n",
       "                                                   &#x27;City&#x27;])])),\n",
       "                (&#x27;scaling_tnf&#x27;,\n",
       "                 ColumnTransformer(remainder=&#x27;passthrough&#x27;,\n",
       "                                   transformers=[(&#x27;tnf&#x27;, StandardScaler(),\n",
       "                                                  slice(0, 18, None))])),\n",
       "                (&#x27;model&#x27;,\n",
       "                 LGBMRegressor(colsample_bytree=0.9769037375988533,\n",
       "                               learning_rate=0.05854272296061775, max_depth=18,\n",
       "                               min_child_weight=0.7607736996559302,\n",
       "                               num_leaves=130, subsample=0.5434350673119992))])</pre><b>In a Jupyter environment, please rerun this cell to show the HTML representation or trust the notebook. <br />On GitHub, the HTML representation is unable to render, please try loading this page with nbviewer.org.</b></div><div class=\"sk-container\" hidden><div class=\"sk-item sk-dashed-wrapped\"><div class=\"sk-label-container\"><div class=\"sk-label sk-toggleable\"><input class=\"sk-toggleable__control sk-hidden--visually\" id=\"sk-estimator-id-31\" type=\"checkbox\" ><label for=\"sk-estimator-id-31\" class=\"sk-toggleable__label sk-toggleable__label-arrow\">Pipeline</label><div class=\"sk-toggleable__content\"><pre>Pipeline(steps=[(&#x27;custom&#x27;,\n",
       "                 CustomTransformer(func=&lt;function frequency_encoding at 0x000001E6FE7309D0&gt;)),\n",
       "                (&#x27;custom2&#x27;,\n",
       "                 CustomTransformer2(func=&lt;function road_traffic_density at 0x000001E6CFCFA940&gt;)),\n",
       "                (&#x27;custom3&#x27;,\n",
       "                 CustomTransformer3(func=&lt;function Type_of_vehicle at 0x000001E6CFCFA9D0&gt;)),\n",
       "                (&#x27;Encoding_tnf&#x27;,\n",
       "                 ColumnTransformer(remainder=&#x27;passthrough&#x27;,\n",
       "                                   transformers=[(&#x27;tnf2&#x27;...\n",
       "                                                  [&#x27;Weather_conditions&#x27;,\n",
       "                                                   &#x27;Type_of_order&#x27;, &#x27;Festival&#x27;,\n",
       "                                                   &#x27;City&#x27;])])),\n",
       "                (&#x27;scaling_tnf&#x27;,\n",
       "                 ColumnTransformer(remainder=&#x27;passthrough&#x27;,\n",
       "                                   transformers=[(&#x27;tnf&#x27;, StandardScaler(),\n",
       "                                                  slice(0, 18, None))])),\n",
       "                (&#x27;model&#x27;,\n",
       "                 LGBMRegressor(colsample_bytree=0.9769037375988533,\n",
       "                               learning_rate=0.05854272296061775, max_depth=18,\n",
       "                               min_child_weight=0.7607736996559302,\n",
       "                               num_leaves=130, subsample=0.5434350673119992))])</pre></div></div></div><div class=\"sk-serial\"><div class=\"sk-item\"><div class=\"sk-estimator sk-toggleable\"><input class=\"sk-toggleable__control sk-hidden--visually\" id=\"sk-estimator-id-32\" type=\"checkbox\" ><label for=\"sk-estimator-id-32\" class=\"sk-toggleable__label sk-toggleable__label-arrow\">CustomTransformer</label><div class=\"sk-toggleable__content\"><pre>CustomTransformer(func=&lt;function frequency_encoding at 0x000001E6FE7309D0&gt;)</pre></div></div></div><div class=\"sk-item\"><div class=\"sk-estimator sk-toggleable\"><input class=\"sk-toggleable__control sk-hidden--visually\" id=\"sk-estimator-id-33\" type=\"checkbox\" ><label for=\"sk-estimator-id-33\" class=\"sk-toggleable__label sk-toggleable__label-arrow\">CustomTransformer2</label><div class=\"sk-toggleable__content\"><pre>CustomTransformer2(func=&lt;function road_traffic_density at 0x000001E6CFCFA940&gt;)</pre></div></div></div><div class=\"sk-item\"><div class=\"sk-estimator sk-toggleable\"><input class=\"sk-toggleable__control sk-hidden--visually\" id=\"sk-estimator-id-34\" type=\"checkbox\" ><label for=\"sk-estimator-id-34\" class=\"sk-toggleable__label sk-toggleable__label-arrow\">CustomTransformer3</label><div class=\"sk-toggleable__content\"><pre>CustomTransformer3(func=&lt;function Type_of_vehicle at 0x000001E6CFCFA9D0&gt;)</pre></div></div></div><div class=\"sk-item sk-dashed-wrapped\"><div class=\"sk-label-container\"><div class=\"sk-label sk-toggleable\"><input class=\"sk-toggleable__control sk-hidden--visually\" id=\"sk-estimator-id-35\" type=\"checkbox\" ><label for=\"sk-estimator-id-35\" class=\"sk-toggleable__label sk-toggleable__label-arrow\">Encoding_tnf: ColumnTransformer</label><div class=\"sk-toggleable__content\"><pre>ColumnTransformer(remainder=&#x27;passthrough&#x27;,\n",
       "                  transformers=[(&#x27;tnf2&#x27;,\n",
       "                                 OneHotEncoder(drop=&#x27;first&#x27;,\n",
       "                                               sparse_output=False),\n",
       "                                 [&#x27;Weather_conditions&#x27;, &#x27;Type_of_order&#x27;,\n",
       "                                  &#x27;Festival&#x27;, &#x27;City&#x27;])])</pre></div></div></div><div class=\"sk-parallel\"><div class=\"sk-parallel-item\"><div class=\"sk-item\"><div class=\"sk-label-container\"><div class=\"sk-label sk-toggleable\"><input class=\"sk-toggleable__control sk-hidden--visually\" id=\"sk-estimator-id-36\" type=\"checkbox\" ><label for=\"sk-estimator-id-36\" class=\"sk-toggleable__label sk-toggleable__label-arrow\">tnf2</label><div class=\"sk-toggleable__content\"><pre>[&#x27;Weather_conditions&#x27;, &#x27;Type_of_order&#x27;, &#x27;Festival&#x27;, &#x27;City&#x27;]</pre></div></div></div><div class=\"sk-serial\"><div class=\"sk-item\"><div class=\"sk-estimator sk-toggleable\"><input class=\"sk-toggleable__control sk-hidden--visually\" id=\"sk-estimator-id-37\" type=\"checkbox\" ><label for=\"sk-estimator-id-37\" class=\"sk-toggleable__label sk-toggleable__label-arrow\">OneHotEncoder</label><div class=\"sk-toggleable__content\"><pre>OneHotEncoder(drop=&#x27;first&#x27;, sparse_output=False)</pre></div></div></div></div></div></div><div class=\"sk-parallel-item\"><div class=\"sk-item\"><div class=\"sk-label-container\"><div class=\"sk-label sk-toggleable\"><input class=\"sk-toggleable__control sk-hidden--visually\" id=\"sk-estimator-id-38\" type=\"checkbox\" ><label for=\"sk-estimator-id-38\" class=\"sk-toggleable__label sk-toggleable__label-arrow\">remainder</label><div class=\"sk-toggleable__content\"><pre>[&#x27;Delivery_person_ID&#x27;, &#x27;Delivery_person_Age&#x27;, &#x27;Delivery_person_Ratings&#x27;, &#x27;Road_traffic_density&#x27;, &#x27;Vehicle_condition&#x27;, &#x27;Type_of_vehicle&#x27;, &#x27;multiple_deliveries&#x27;, &#x27;Distance in kms&#x27;, &#x27;Order_Day&#x27;, &#x27;Order_month&#x27;, &#x27;Order_year&#x27;, &#x27;Time_Orderd_Hour&#x27;, &#x27;Time_Orderd_mins&#x27;, &#x27;Time_Order_picked_Hour&#x27;, &#x27;Time_Order_picked_mins&#x27;]</pre></div></div></div><div class=\"sk-serial\"><div class=\"sk-item\"><div class=\"sk-estimator sk-toggleable\"><input class=\"sk-toggleable__control sk-hidden--visually\" id=\"sk-estimator-id-39\" type=\"checkbox\" ><label for=\"sk-estimator-id-39\" class=\"sk-toggleable__label sk-toggleable__label-arrow\">passthrough</label><div class=\"sk-toggleable__content\"><pre>passthrough</pre></div></div></div></div></div></div></div></div><div class=\"sk-item sk-dashed-wrapped\"><div class=\"sk-label-container\"><div class=\"sk-label sk-toggleable\"><input class=\"sk-toggleable__control sk-hidden--visually\" id=\"sk-estimator-id-40\" type=\"checkbox\" ><label for=\"sk-estimator-id-40\" class=\"sk-toggleable__label sk-toggleable__label-arrow\">scaling_tnf: ColumnTransformer</label><div class=\"sk-toggleable__content\"><pre>ColumnTransformer(remainder=&#x27;passthrough&#x27;,\n",
       "                  transformers=[(&#x27;tnf&#x27;, StandardScaler(), slice(0, 18, None))])</pre></div></div></div><div class=\"sk-parallel\"><div class=\"sk-parallel-item\"><div class=\"sk-item\"><div class=\"sk-label-container\"><div class=\"sk-label sk-toggleable\"><input class=\"sk-toggleable__control sk-hidden--visually\" id=\"sk-estimator-id-41\" type=\"checkbox\" ><label for=\"sk-estimator-id-41\" class=\"sk-toggleable__label sk-toggleable__label-arrow\">tnf</label><div class=\"sk-toggleable__content\"><pre>slice(0, 18, None)</pre></div></div></div><div class=\"sk-serial\"><div class=\"sk-item\"><div class=\"sk-estimator sk-toggleable\"><input class=\"sk-toggleable__control sk-hidden--visually\" id=\"sk-estimator-id-42\" type=\"checkbox\" ><label for=\"sk-estimator-id-42\" class=\"sk-toggleable__label sk-toggleable__label-arrow\">StandardScaler</label><div class=\"sk-toggleable__content\"><pre>StandardScaler()</pre></div></div></div></div></div></div><div class=\"sk-parallel-item\"><div class=\"sk-item\"><div class=\"sk-label-container\"><div class=\"sk-label sk-toggleable\"><input class=\"sk-toggleable__control sk-hidden--visually\" id=\"sk-estimator-id-43\" type=\"checkbox\" ><label for=\"sk-estimator-id-43\" class=\"sk-toggleable__label sk-toggleable__label-arrow\">remainder</label><div class=\"sk-toggleable__content\"><pre>[18, 19, 20, 21, 22, 23, 24, 25, 26, 27, 28]</pre></div></div></div><div class=\"sk-serial\"><div class=\"sk-item\"><div class=\"sk-estimator sk-toggleable\"><input class=\"sk-toggleable__control sk-hidden--visually\" id=\"sk-estimator-id-44\" type=\"checkbox\" ><label for=\"sk-estimator-id-44\" class=\"sk-toggleable__label sk-toggleable__label-arrow\">passthrough</label><div class=\"sk-toggleable__content\"><pre>passthrough</pre></div></div></div></div></div></div></div></div><div class=\"sk-item\"><div class=\"sk-estimator sk-toggleable\"><input class=\"sk-toggleable__control sk-hidden--visually\" id=\"sk-estimator-id-45\" type=\"checkbox\" ><label for=\"sk-estimator-id-45\" class=\"sk-toggleable__label sk-toggleable__label-arrow\">LGBMRegressor</label><div class=\"sk-toggleable__content\"><pre>LGBMRegressor(colsample_bytree=0.9769037375988533,\n",
       "              learning_rate=0.05854272296061775, max_depth=18,\n",
       "              min_child_weight=0.7607736996559302, num_leaves=130,\n",
       "              subsample=0.5434350673119992)</pre></div></div></div></div></div></div></div>"
      ],
      "text/plain": [
       "Pipeline(steps=[('custom',\n",
       "                 CustomTransformer(func=<function frequency_encoding at 0x000001E6FE7309D0>)),\n",
       "                ('custom2',\n",
       "                 CustomTransformer2(func=<function road_traffic_density at 0x000001E6CFCFA940>)),\n",
       "                ('custom3',\n",
       "                 CustomTransformer3(func=<function Type_of_vehicle at 0x000001E6CFCFA9D0>)),\n",
       "                ('Encoding_tnf',\n",
       "                 ColumnTransformer(remainder='passthrough',\n",
       "                                   transformers=[('tnf2'...\n",
       "                                                  ['Weather_conditions',\n",
       "                                                   'Type_of_order', 'Festival',\n",
       "                                                   'City'])])),\n",
       "                ('scaling_tnf',\n",
       "                 ColumnTransformer(remainder='passthrough',\n",
       "                                   transformers=[('tnf', StandardScaler(),\n",
       "                                                  slice(0, 18, None))])),\n",
       "                ('model',\n",
       "                 LGBMRegressor(colsample_bytree=0.9769037375988533,\n",
       "                               learning_rate=0.05854272296061775, max_depth=18,\n",
       "                               min_child_weight=0.7607736996559302,\n",
       "                               num_leaves=130, subsample=0.5434350673119992))])"
      ]
     },
     "execution_count": 24,
     "metadata": {},
     "output_type": "execute_result"
    }
   ],
   "source": [
    "pipeline"
   ]
  },
  {
   "cell_type": "code",
   "execution_count": 33,
   "metadata": {},
   "outputs": [
    {
     "data": {
      "text/plain": [
       "[('custom',\n",
       "  CustomTransformer(func=<function frequency_encoding at 0x000001B28FE00160>)),\n",
       " ('custom2',\n",
       "  CustomTransformer2(func=<function road_traffic_density at 0x000001B28FE6E310>)),\n",
       " ('custom3',\n",
       "  CustomTransformer3(func=<function Type_of_vehicle at 0x000001B28FE6E3A0>)),\n",
       " ('Encoding_tnf',\n",
       "  ColumnTransformer(remainder='passthrough',\n",
       "                    transformers=[('tnf2',\n",
       "                                   OneHotEncoder(drop='first',\n",
       "                                                 sparse_output=False),\n",
       "                                   ['Weather_conditions', 'Type_of_order',\n",
       "                                    'Festival', 'City'])])),\n",
       " ('scaling_tnf',\n",
       "  ColumnTransformer(remainder='passthrough',\n",
       "                    transformers=[('tnf', StandardScaler(), slice(0, 18, None))])),\n",
       " ('model',\n",
       "  LGBMRegressor(colsample_bytree=0.9769037375988533,\n",
       "                learning_rate=0.05854272296061775, max_depth=18,\n",
       "                min_child_weight=0.7607736996559302, num_leaves=130,\n",
       "                subsample=0.5434350673119992))]"
      ]
     },
     "execution_count": 33,
     "metadata": {},
     "output_type": "execute_result"
    }
   ],
   "source": [
    "pipeline.steps"
   ]
  },
  {
   "cell_type": "code",
   "execution_count": 23,
   "metadata": {},
   "outputs": [
    {
     "name": "stdout",
     "output_type": "stream",
     "text": [
      "Collecting dill\n",
      "  Obtaining dependency information for dill from https://files.pythonhosted.org/packages/c9/7a/cef76fd8438a42f96db64ddaa85280485a9c395e7df3db8158cfec1eee34/dill-0.3.8-py3-none-any.whl.metadata\n",
      "  Downloading dill-0.3.8-py3-none-any.whl.metadata (10 kB)\n",
      "Downloading dill-0.3.8-py3-none-any.whl (116 kB)\n",
      "   ---------------------------------------- 0.0/116.3 kB ? eta -:--:--\n",
      "   ---------- ----------------------------- 30.7/116.3 kB 1.4 MB/s eta 0:00:01\n",
      "   ---------------------------------------- 116.3/116.3 kB 1.7 MB/s eta 0:00:00\n",
      "Installing collected packages: dill\n",
      "Successfully installed dill-0.3.8\n",
      "Note: you may need to restart the kernel to use updated packages.\n"
     ]
    }
   ],
   "source": [
    "pip install dill"
   ]
  },
  {
   "cell_type": "code",
   "execution_count": 14,
   "metadata": {},
   "outputs": [],
   "source": [
    "import dill\n",
    "\n",
    "with open('transformer.pkl', 'wb') as f:\n",
    "    dill.dump(pipeline, f)\n"
   ]
  }
 ],
 "metadata": {
  "kernelspec": {
   "display_name": "EDA_practice",
   "language": "python",
   "name": "python3"
  },
  "language_info": {
   "codemirror_mode": {
    "name": "ipython",
    "version": 3
   },
   "file_extension": ".py",
   "mimetype": "text/x-python",
   "name": "python",
   "nbconvert_exporter": "python",
   "pygments_lexer": "ipython3",
   "version": "3.8.18"
  }
 },
 "nbformat": 4,
 "nbformat_minor": 2
}
