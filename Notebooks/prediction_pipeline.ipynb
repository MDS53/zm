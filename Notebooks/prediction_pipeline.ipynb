{
 "cells": [
  {
   "cell_type": "markdown",
   "metadata": {},
   "source": [
    "## Dataset Location : 'c:\\\\Users\\\\new\\\\OneDrive\\\\Desktop\\\\Zomato project\\\\Notebooks\\\\Data'"
   ]
  },
  {
   "cell_type": "code",
   "execution_count": 53,
   "metadata": {},
   "outputs": [],
   "source": [
    "import pandas as pd\n",
    "import numpy as np\n",
    "pd.set_option('display.max_columns',None)"
   ]
  },
  {
   "cell_type": "code",
   "execution_count": 51,
   "metadata": {},
   "outputs": [],
   "source": [
    "import dill\n",
    "\n",
    "with open('transformer.pkl', 'rb') as f:\n",
    "    transformer = dill.load(f)\n"
   ]
  },
  {
   "cell_type": "code",
   "execution_count": 11,
   "metadata": {},
   "outputs": [
    {
     "data": {
      "text/html": [
       "<div>\n",
       "<style scoped>\n",
       "    .dataframe tbody tr th:only-of-type {\n",
       "        vertical-align: middle;\n",
       "    }\n",
       "\n",
       "    .dataframe tbody tr th {\n",
       "        vertical-align: top;\n",
       "    }\n",
       "\n",
       "    .dataframe thead th {\n",
       "        text-align: right;\n",
       "    }\n",
       "</style>\n",
       "<table border=\"1\" class=\"dataframe\">\n",
       "  <thead>\n",
       "    <tr style=\"text-align: right;\">\n",
       "      <th></th>\n",
       "      <th>Delivery_person_ID</th>\n",
       "      <th>Delivery_person_Age</th>\n",
       "      <th>Delivery_person_Ratings</th>\n",
       "      <th>Weather_conditions</th>\n",
       "      <th>Road_traffic_density</th>\n",
       "      <th>Vehicle_condition</th>\n",
       "      <th>Type_of_order</th>\n",
       "      <th>Type_of_vehicle</th>\n",
       "      <th>multiple_deliveries</th>\n",
       "      <th>Festival</th>\n",
       "      <th>City</th>\n",
       "      <th>Distance in kms</th>\n",
       "      <th>Order_Day</th>\n",
       "      <th>Order_month</th>\n",
       "      <th>Order_year</th>\n",
       "      <th>Time_Orderd_Hour</th>\n",
       "      <th>Time_Orderd_mins</th>\n",
       "      <th>Time_Order_picked_Hour</th>\n",
       "      <th>Time_Order_picked_mins</th>\n",
       "    </tr>\n",
       "  </thead>\n",
       "  <tbody>\n",
       "    <tr>\n",
       "      <th>0</th>\n",
       "      <td>DEHRES17DEL01</td>\n",
       "      <td>36.0</td>\n",
       "      <td>4.2</td>\n",
       "      <td>Fog</td>\n",
       "      <td>Jam</td>\n",
       "      <td>2</td>\n",
       "      <td>Snack</td>\n",
       "      <td>motorcycle</td>\n",
       "      <td>3.0</td>\n",
       "      <td>No</td>\n",
       "      <td>Metropolitian</td>\n",
       "      <td>10.3</td>\n",
       "      <td>12</td>\n",
       "      <td>2</td>\n",
       "      <td>2022</td>\n",
       "      <td>21.0</td>\n",
       "      <td>55.0</td>\n",
       "      <td>22.0</td>\n",
       "      <td>10.0</td>\n",
       "    </tr>\n",
       "  </tbody>\n",
       "</table>\n",
       "</div>"
      ],
      "text/plain": [
       "  Delivery_person_ID  Delivery_person_Age  Delivery_person_Ratings  \\\n",
       "0      DEHRES17DEL01                 36.0                      4.2   \n",
       "\n",
       "  Weather_conditions Road_traffic_density  Vehicle_condition Type_of_order  \\\n",
       "0                Fog                  Jam                  2         Snack   \n",
       "\n",
       "  Type_of_vehicle  multiple_deliveries Festival           City  \\\n",
       "0      motorcycle                  3.0       No  Metropolitian   \n",
       "\n",
       "   Distance in kms  Order_Day  Order_month  Order_year  Time_Orderd_Hour  \\\n",
       "0             10.3         12            2        2022              21.0   \n",
       "\n",
       "   Time_Orderd_mins  Time_Order_picked_Hour  Time_Order_picked_mins  \n",
       "0              55.0                    22.0                    10.0  "
      ]
     },
     "execution_count": 11,
     "metadata": {},
     "output_type": "execute_result"
    }
   ],
   "source": [
    "\n",
    "# Specified columns\n",
    "columns = ['Delivery_person_ID', 'Delivery_person_Age', 'Delivery_person_Ratings',\n",
    "           'Weather_conditions', 'Road_traffic_density', 'Vehicle_condition',\n",
    "           'Type_of_order', 'Type_of_vehicle', 'multiple_deliveries', 'Festival',\n",
    "           'City', 'Distance in kms', 'Order_Day', 'Order_month', 'Order_year',\n",
    "           'Time_Orderd_Hour', 'Time_Orderd_mins', 'Time_Order_picked_Hour',\n",
    "           'Time_Order_picked_mins']\n",
    "\n",
    "# Provided data\n",
    "data = [\"DEHRES17DEL01\", 36.0, 4.2, \"Fog\", \"Jam\", 2, \"Snack\", \"motorcycle\", 3.0, \"No\", \n",
    "        \"Metropolitian\", 10.3, 12, 2, 2022, 21.0, 55.0, 22.0, 10.0]\n",
    "\n",
    "# Creating the DataFrame\n",
    "test = pd.DataFrame([data], columns=columns)\n",
    "test\n"
   ]
  },
  {
   "cell_type": "code",
   "execution_count": 12,
   "metadata": {},
   "outputs": [
    {
     "data": {
      "text/plain": [
       "array([46.85292496])"
      ]
     },
     "execution_count": 12,
     "metadata": {},
     "output_type": "execute_result"
    }
   ],
   "source": [
    "transformer.predict(test)"
   ]
  },
  {
   "cell_type": "code",
   "execution_count": 46,
   "metadata": {},
   "outputs": [
    {
     "data": {
      "text/html": [
       "<div>\n",
       "<style scoped>\n",
       "    .dataframe tbody tr th:only-of-type {\n",
       "        vertical-align: middle;\n",
       "    }\n",
       "\n",
       "    .dataframe tbody tr th {\n",
       "        vertical-align: top;\n",
       "    }\n",
       "\n",
       "    .dataframe thead th {\n",
       "        text-align: right;\n",
       "    }\n",
       "</style>\n",
       "<table border=\"1\" class=\"dataframe\">\n",
       "  <thead>\n",
       "    <tr style=\"text-align: right;\">\n",
       "      <th></th>\n",
       "      <th>Delivery_person_ID</th>\n",
       "      <th>Delivery_person_Age</th>\n",
       "      <th>Delivery_person_Ratings</th>\n",
       "      <th>Weather_conditions</th>\n",
       "      <th>Road_traffic_density</th>\n",
       "      <th>Vehicle_condition</th>\n",
       "      <th>Type_of_order</th>\n",
       "      <th>Type_of_vehicle</th>\n",
       "      <th>multiple_deliveries</th>\n",
       "      <th>Festival</th>\n",
       "      <th>City</th>\n",
       "      <th>Distance in kms</th>\n",
       "      <th>Order_Day</th>\n",
       "      <th>Order_month</th>\n",
       "      <th>Order_year</th>\n",
       "      <th>Time_Orderd_Hour</th>\n",
       "      <th>Time_Orderd_mins</th>\n",
       "      <th>Time_Order_picked_Hour</th>\n",
       "      <th>Time_Order_picked_mins</th>\n",
       "    </tr>\n",
       "  </thead>\n",
       "  <tbody>\n",
       "    <tr>\n",
       "      <th>0</th>\n",
       "      <td>\"HYDRES06DEL02\",</td>\n",
       "      <td>35.0</td>\n",
       "      <td>4.7</td>\n",
       "      <td>\"Fog\"</td>\n",
       "      <td>\"Medium\"</td>\n",
       "      <td>0</td>\n",
       "      <td>\"Snack\"</td>\n",
       "      <td>\"motorcycle\"</td>\n",
       "      <td>1.0</td>\n",
       "      <td>\"No\"</td>\n",
       "      <td>\"Metropolitian\"</td>\n",
       "      <td>9.3</td>\n",
       "      <td>19</td>\n",
       "      <td>3</td>\n",
       "      <td>2022</td>\n",
       "      <td>18.0</td>\n",
       "      <td>45.0</td>\n",
       "      <td>19.0</td>\n",
       "      <td>0</td>\n",
       "    </tr>\n",
       "  </tbody>\n",
       "</table>\n",
       "</div>"
      ],
      "text/plain": [
       "  Delivery_person_ID Delivery_person_Age Delivery_person_Ratings  \\\n",
       "0   \"HYDRES06DEL02\",                35.0                     4.7   \n",
       "\n",
       "  Weather_conditions Road_traffic_density Vehicle_condition Type_of_order  \\\n",
       "0              \"Fog\"             \"Medium\"                 0       \"Snack\"   \n",
       "\n",
       "  Type_of_vehicle multiple_deliveries Festival             City  \\\n",
       "0    \"motorcycle\"                 1.0     \"No\"  \"Metropolitian\"   \n",
       "\n",
       "  Distance in kms Order_Day Order_month Order_year Time_Orderd_Hour  \\\n",
       "0             9.3        19           3       2022             18.0   \n",
       "\n",
       "  Time_Orderd_mins Time_Order_picked_Hour Time_Order_picked_mins  \n",
       "0             45.0                   19.0                      0  "
      ]
     },
     "execution_count": 46,
     "metadata": {},
     "output_type": "execute_result"
    }
   ],
   "source": [
    "\n",
    "# Specified columns\n",
    "columns = ['Delivery_person_ID', 'Delivery_person_Age', 'Delivery_person_Ratings',\n",
    "           'Weather_conditions', 'Road_traffic_density', 'Vehicle_condition',\n",
    "           'Type_of_order', 'Type_of_vehicle', 'multiple_deliveries', 'Festival',\n",
    "           'City', 'Distance in kms', 'Order_Day', 'Order_month', 'Order_year',\n",
    "           'Time_Orderd_Hour', 'Time_Orderd_mins', 'Time_Order_picked_Hour',\n",
    "           'Time_Order_picked_mins']\n",
    "\n",
    "# Provided data\n",
    "data = \"\\\"HYDRES06DEL02\\\",\t35.0\t4.7\t\\\"Fog\\\"\t\\\"Medium\\\"\t0\t\\\"Snack\\\"\t\\\"motorcycle\\\"\t1.0\t\\\"No\\\"\t\\\"Metropolitian\\\"\t9.3\t19\t3\t2022\t18.0\t45.0\t19.0\t0\"\n",
    "data=data.split(sep='\\t')\n",
    "# Creating the DataFrame\n",
    "test = pd.DataFrame([data], columns=columns)\n",
    "test"
   ]
  },
  {
   "cell_type": "code",
   "execution_count": 52,
   "metadata": {},
   "outputs": [
    {
     "name": "stderr",
     "output_type": "stream",
     "text": [
      "c:\\Users\\new\\anaconda3\\envs\\EDA_practice\\lib\\site-packages\\sklearn\\preprocessing\\_encoders.py:228: UserWarning: Found unknown categories in columns [0, 1, 2, 3] during transform. These unknown categories will be encoded as all zeros\n",
      "  warnings.warn(\n"
     ]
    },
    {
     "data": {
      "text/plain": [
       "array([28.67195628])"
      ]
     },
     "execution_count": 52,
     "metadata": {},
     "output_type": "execute_result"
    }
   ],
   "source": [
    "transformer.predict(test)"
   ]
  },
  {
   "cell_type": "code",
   "execution_count": 7,
   "metadata": {},
   "outputs": [
    {
     "data": {
      "text/html": [
       "<style>#sk-container-id-2 {color: black;}#sk-container-id-2 pre{padding: 0;}#sk-container-id-2 div.sk-toggleable {background-color: white;}#sk-container-id-2 label.sk-toggleable__label {cursor: pointer;display: block;width: 100%;margin-bottom: 0;padding: 0.3em;box-sizing: border-box;text-align: center;}#sk-container-id-2 label.sk-toggleable__label-arrow:before {content: \"▸\";float: left;margin-right: 0.25em;color: #696969;}#sk-container-id-2 label.sk-toggleable__label-arrow:hover:before {color: black;}#sk-container-id-2 div.sk-estimator:hover label.sk-toggleable__label-arrow:before {color: black;}#sk-container-id-2 div.sk-toggleable__content {max-height: 0;max-width: 0;overflow: hidden;text-align: left;background-color: #f0f8ff;}#sk-container-id-2 div.sk-toggleable__content pre {margin: 0.2em;color: black;border-radius: 0.25em;background-color: #f0f8ff;}#sk-container-id-2 input.sk-toggleable__control:checked~div.sk-toggleable__content {max-height: 200px;max-width: 100%;overflow: auto;}#sk-container-id-2 input.sk-toggleable__control:checked~label.sk-toggleable__label-arrow:before {content: \"▾\";}#sk-container-id-2 div.sk-estimator input.sk-toggleable__control:checked~label.sk-toggleable__label {background-color: #d4ebff;}#sk-container-id-2 div.sk-label input.sk-toggleable__control:checked~label.sk-toggleable__label {background-color: #d4ebff;}#sk-container-id-2 input.sk-hidden--visually {border: 0;clip: rect(1px 1px 1px 1px);clip: rect(1px, 1px, 1px, 1px);height: 1px;margin: -1px;overflow: hidden;padding: 0;position: absolute;width: 1px;}#sk-container-id-2 div.sk-estimator {font-family: monospace;background-color: #f0f8ff;border: 1px dotted black;border-radius: 0.25em;box-sizing: border-box;margin-bottom: 0.5em;}#sk-container-id-2 div.sk-estimator:hover {background-color: #d4ebff;}#sk-container-id-2 div.sk-parallel-item::after {content: \"\";width: 100%;border-bottom: 1px solid gray;flex-grow: 1;}#sk-container-id-2 div.sk-label:hover label.sk-toggleable__label {background-color: #d4ebff;}#sk-container-id-2 div.sk-serial::before {content: \"\";position: absolute;border-left: 1px solid gray;box-sizing: border-box;top: 0;bottom: 0;left: 50%;z-index: 0;}#sk-container-id-2 div.sk-serial {display: flex;flex-direction: column;align-items: center;background-color: white;padding-right: 0.2em;padding-left: 0.2em;position: relative;}#sk-container-id-2 div.sk-item {position: relative;z-index: 1;}#sk-container-id-2 div.sk-parallel {display: flex;align-items: stretch;justify-content: center;background-color: white;position: relative;}#sk-container-id-2 div.sk-item::before, #sk-container-id-2 div.sk-parallel-item::before {content: \"\";position: absolute;border-left: 1px solid gray;box-sizing: border-box;top: 0;bottom: 0;left: 50%;z-index: -1;}#sk-container-id-2 div.sk-parallel-item {display: flex;flex-direction: column;z-index: 1;position: relative;background-color: white;}#sk-container-id-2 div.sk-parallel-item:first-child::after {align-self: flex-end;width: 50%;}#sk-container-id-2 div.sk-parallel-item:last-child::after {align-self: flex-start;width: 50%;}#sk-container-id-2 div.sk-parallel-item:only-child::after {width: 0;}#sk-container-id-2 div.sk-dashed-wrapped {border: 1px dashed gray;margin: 0 0.4em 0.5em 0.4em;box-sizing: border-box;padding-bottom: 0.4em;background-color: white;}#sk-container-id-2 div.sk-label label {font-family: monospace;font-weight: bold;display: inline-block;line-height: 1.2em;}#sk-container-id-2 div.sk-label-container {text-align: center;}#sk-container-id-2 div.sk-container {/* jupyter's `normalize.less` sets `[hidden] { display: none; }` but bootstrap.min.css set `[hidden] { display: none !important; }` so we also need the `!important` here to be able to override the default hidden behavior on the sphinx rendered scikit-learn.org. See: https://github.com/scikit-learn/scikit-learn/issues/21755 */display: inline-block !important;position: relative;}#sk-container-id-2 div.sk-text-repr-fallback {display: none;}</style><div id=\"sk-container-id-2\" class=\"sk-top-container\"><div class=\"sk-text-repr-fallback\"><pre>Pipeline(steps=[(&#x27;custom&#x27;,\n",
       "                 CustomTransformer(func=&lt;function frequency_encoding at 0x0000024AA233F040&gt;)),\n",
       "                (&#x27;custom2&#x27;,\n",
       "                 CustomTransformer2(func=&lt;function road_traffic_density at 0x0000024AA233F3A0&gt;)),\n",
       "                (&#x27;custom3&#x27;,\n",
       "                 CustomTransformer3(func=&lt;function Type_of_vehicle at 0x0000024AA233F700&gt;)),\n",
       "                (&#x27;Encoding_tnf&#x27;,\n",
       "                 ColumnTransformer(remainder=&#x27;passthrough&#x27;,\n",
       "                                   transformers=[(&#x27;tnf2&#x27;...\n",
       "                                                  [&#x27;Weather_conditions&#x27;,\n",
       "                                                   &#x27;Type_of_order&#x27;, &#x27;Festival&#x27;,\n",
       "                                                   &#x27;City&#x27;])])),\n",
       "                (&#x27;scaling_tnf&#x27;,\n",
       "                 ColumnTransformer(remainder=&#x27;passthrough&#x27;,\n",
       "                                   transformers=[(&#x27;tnf&#x27;, StandardScaler(),\n",
       "                                                  slice(0, 18, None))])),\n",
       "                (&#x27;model&#x27;,\n",
       "                 LGBMRegressor(colsample_bytree=0.9769037375988533,\n",
       "                               learning_rate=0.05854272296061775, max_depth=18,\n",
       "                               min_child_weight=0.7607736996559302,\n",
       "                               num_leaves=130, subsample=0.5434350673119992))])</pre><b>In a Jupyter environment, please rerun this cell to show the HTML representation or trust the notebook. <br />On GitHub, the HTML representation is unable to render, please try loading this page with nbviewer.org.</b></div><div class=\"sk-container\" hidden><div class=\"sk-item sk-dashed-wrapped\"><div class=\"sk-label-container\"><div class=\"sk-label sk-toggleable\"><input class=\"sk-toggleable__control sk-hidden--visually\" id=\"sk-estimator-id-16\" type=\"checkbox\" ><label for=\"sk-estimator-id-16\" class=\"sk-toggleable__label sk-toggleable__label-arrow\">Pipeline</label><div class=\"sk-toggleable__content\"><pre>Pipeline(steps=[(&#x27;custom&#x27;,\n",
       "                 CustomTransformer(func=&lt;function frequency_encoding at 0x0000024AA233F040&gt;)),\n",
       "                (&#x27;custom2&#x27;,\n",
       "                 CustomTransformer2(func=&lt;function road_traffic_density at 0x0000024AA233F3A0&gt;)),\n",
       "                (&#x27;custom3&#x27;,\n",
       "                 CustomTransformer3(func=&lt;function Type_of_vehicle at 0x0000024AA233F700&gt;)),\n",
       "                (&#x27;Encoding_tnf&#x27;,\n",
       "                 ColumnTransformer(remainder=&#x27;passthrough&#x27;,\n",
       "                                   transformers=[(&#x27;tnf2&#x27;...\n",
       "                                                  [&#x27;Weather_conditions&#x27;,\n",
       "                                                   &#x27;Type_of_order&#x27;, &#x27;Festival&#x27;,\n",
       "                                                   &#x27;City&#x27;])])),\n",
       "                (&#x27;scaling_tnf&#x27;,\n",
       "                 ColumnTransformer(remainder=&#x27;passthrough&#x27;,\n",
       "                                   transformers=[(&#x27;tnf&#x27;, StandardScaler(),\n",
       "                                                  slice(0, 18, None))])),\n",
       "                (&#x27;model&#x27;,\n",
       "                 LGBMRegressor(colsample_bytree=0.9769037375988533,\n",
       "                               learning_rate=0.05854272296061775, max_depth=18,\n",
       "                               min_child_weight=0.7607736996559302,\n",
       "                               num_leaves=130, subsample=0.5434350673119992))])</pre></div></div></div><div class=\"sk-serial\"><div class=\"sk-item\"><div class=\"sk-estimator sk-toggleable\"><input class=\"sk-toggleable__control sk-hidden--visually\" id=\"sk-estimator-id-17\" type=\"checkbox\" ><label for=\"sk-estimator-id-17\" class=\"sk-toggleable__label sk-toggleable__label-arrow\">CustomTransformer</label><div class=\"sk-toggleable__content\"><pre>CustomTransformer(func=&lt;function frequency_encoding at 0x0000024AA233F040&gt;)</pre></div></div></div><div class=\"sk-item\"><div class=\"sk-estimator sk-toggleable\"><input class=\"sk-toggleable__control sk-hidden--visually\" id=\"sk-estimator-id-18\" type=\"checkbox\" ><label for=\"sk-estimator-id-18\" class=\"sk-toggleable__label sk-toggleable__label-arrow\">CustomTransformer2</label><div class=\"sk-toggleable__content\"><pre>CustomTransformer2(func=&lt;function road_traffic_density at 0x0000024AA233F3A0&gt;)</pre></div></div></div><div class=\"sk-item\"><div class=\"sk-estimator sk-toggleable\"><input class=\"sk-toggleable__control sk-hidden--visually\" id=\"sk-estimator-id-19\" type=\"checkbox\" ><label for=\"sk-estimator-id-19\" class=\"sk-toggleable__label sk-toggleable__label-arrow\">CustomTransformer3</label><div class=\"sk-toggleable__content\"><pre>CustomTransformer3(func=&lt;function Type_of_vehicle at 0x0000024AA233F700&gt;)</pre></div></div></div><div class=\"sk-item sk-dashed-wrapped\"><div class=\"sk-label-container\"><div class=\"sk-label sk-toggleable\"><input class=\"sk-toggleable__control sk-hidden--visually\" id=\"sk-estimator-id-20\" type=\"checkbox\" ><label for=\"sk-estimator-id-20\" class=\"sk-toggleable__label sk-toggleable__label-arrow\">Encoding_tnf: ColumnTransformer</label><div class=\"sk-toggleable__content\"><pre>ColumnTransformer(remainder=&#x27;passthrough&#x27;,\n",
       "                  transformers=[(&#x27;tnf2&#x27;,\n",
       "                                 OneHotEncoder(drop=&#x27;first&#x27;,\n",
       "                                               sparse_output=False),\n",
       "                                 [&#x27;Weather_conditions&#x27;, &#x27;Type_of_order&#x27;,\n",
       "                                  &#x27;Festival&#x27;, &#x27;City&#x27;])])</pre></div></div></div><div class=\"sk-parallel\"><div class=\"sk-parallel-item\"><div class=\"sk-item\"><div class=\"sk-label-container\"><div class=\"sk-label sk-toggleable\"><input class=\"sk-toggleable__control sk-hidden--visually\" id=\"sk-estimator-id-21\" type=\"checkbox\" ><label for=\"sk-estimator-id-21\" class=\"sk-toggleable__label sk-toggleable__label-arrow\">tnf2</label><div class=\"sk-toggleable__content\"><pre>[&#x27;Weather_conditions&#x27;, &#x27;Type_of_order&#x27;, &#x27;Festival&#x27;, &#x27;City&#x27;]</pre></div></div></div><div class=\"sk-serial\"><div class=\"sk-item\"><div class=\"sk-estimator sk-toggleable\"><input class=\"sk-toggleable__control sk-hidden--visually\" id=\"sk-estimator-id-22\" type=\"checkbox\" ><label for=\"sk-estimator-id-22\" class=\"sk-toggleable__label sk-toggleable__label-arrow\">OneHotEncoder</label><div class=\"sk-toggleable__content\"><pre>OneHotEncoder(drop=&#x27;first&#x27;, sparse_output=False)</pre></div></div></div></div></div></div><div class=\"sk-parallel-item\"><div class=\"sk-item\"><div class=\"sk-label-container\"><div class=\"sk-label sk-toggleable\"><input class=\"sk-toggleable__control sk-hidden--visually\" id=\"sk-estimator-id-23\" type=\"checkbox\" ><label for=\"sk-estimator-id-23\" class=\"sk-toggleable__label sk-toggleable__label-arrow\">remainder</label><div class=\"sk-toggleable__content\"><pre>[&#x27;Delivery_person_ID&#x27;, &#x27;Delivery_person_Age&#x27;, &#x27;Delivery_person_Ratings&#x27;, &#x27;Road_traffic_density&#x27;, &#x27;Vehicle_condition&#x27;, &#x27;Type_of_vehicle&#x27;, &#x27;multiple_deliveries&#x27;, &#x27;Distance in kms&#x27;, &#x27;Order_Day&#x27;, &#x27;Order_month&#x27;, &#x27;Order_year&#x27;, &#x27;Time_Orderd_Hour&#x27;, &#x27;Time_Orderd_mins&#x27;, &#x27;Time_Order_picked_Hour&#x27;, &#x27;Time_Order_picked_mins&#x27;]</pre></div></div></div><div class=\"sk-serial\"><div class=\"sk-item\"><div class=\"sk-estimator sk-toggleable\"><input class=\"sk-toggleable__control sk-hidden--visually\" id=\"sk-estimator-id-24\" type=\"checkbox\" ><label for=\"sk-estimator-id-24\" class=\"sk-toggleable__label sk-toggleable__label-arrow\">passthrough</label><div class=\"sk-toggleable__content\"><pre>passthrough</pre></div></div></div></div></div></div></div></div><div class=\"sk-item sk-dashed-wrapped\"><div class=\"sk-label-container\"><div class=\"sk-label sk-toggleable\"><input class=\"sk-toggleable__control sk-hidden--visually\" id=\"sk-estimator-id-25\" type=\"checkbox\" ><label for=\"sk-estimator-id-25\" class=\"sk-toggleable__label sk-toggleable__label-arrow\">scaling_tnf: ColumnTransformer</label><div class=\"sk-toggleable__content\"><pre>ColumnTransformer(remainder=&#x27;passthrough&#x27;,\n",
       "                  transformers=[(&#x27;tnf&#x27;, StandardScaler(), slice(0, 18, None))])</pre></div></div></div><div class=\"sk-parallel\"><div class=\"sk-parallel-item\"><div class=\"sk-item\"><div class=\"sk-label-container\"><div class=\"sk-label sk-toggleable\"><input class=\"sk-toggleable__control sk-hidden--visually\" id=\"sk-estimator-id-26\" type=\"checkbox\" ><label for=\"sk-estimator-id-26\" class=\"sk-toggleable__label sk-toggleable__label-arrow\">tnf</label><div class=\"sk-toggleable__content\"><pre>slice(0, 18, None)</pre></div></div></div><div class=\"sk-serial\"><div class=\"sk-item\"><div class=\"sk-estimator sk-toggleable\"><input class=\"sk-toggleable__control sk-hidden--visually\" id=\"sk-estimator-id-27\" type=\"checkbox\" ><label for=\"sk-estimator-id-27\" class=\"sk-toggleable__label sk-toggleable__label-arrow\">StandardScaler</label><div class=\"sk-toggleable__content\"><pre>StandardScaler()</pre></div></div></div></div></div></div><div class=\"sk-parallel-item\"><div class=\"sk-item\"><div class=\"sk-label-container\"><div class=\"sk-label sk-toggleable\"><input class=\"sk-toggleable__control sk-hidden--visually\" id=\"sk-estimator-id-28\" type=\"checkbox\" ><label for=\"sk-estimator-id-28\" class=\"sk-toggleable__label sk-toggleable__label-arrow\">remainder</label><div class=\"sk-toggleable__content\"><pre>[18, 19, 20, 21, 22, 23, 24, 25, 26, 27, 28]</pre></div></div></div><div class=\"sk-serial\"><div class=\"sk-item\"><div class=\"sk-estimator sk-toggleable\"><input class=\"sk-toggleable__control sk-hidden--visually\" id=\"sk-estimator-id-29\" type=\"checkbox\" ><label for=\"sk-estimator-id-29\" class=\"sk-toggleable__label sk-toggleable__label-arrow\">passthrough</label><div class=\"sk-toggleable__content\"><pre>passthrough</pre></div></div></div></div></div></div></div></div><div class=\"sk-item\"><div class=\"sk-estimator sk-toggleable\"><input class=\"sk-toggleable__control sk-hidden--visually\" id=\"sk-estimator-id-30\" type=\"checkbox\" ><label for=\"sk-estimator-id-30\" class=\"sk-toggleable__label sk-toggleable__label-arrow\">LGBMRegressor</label><div class=\"sk-toggleable__content\"><pre>LGBMRegressor(colsample_bytree=0.9769037375988533,\n",
       "              learning_rate=0.05854272296061775, max_depth=18,\n",
       "              min_child_weight=0.7607736996559302, num_leaves=130,\n",
       "              subsample=0.5434350673119992)</pre></div></div></div></div></div></div></div>"
      ],
      "text/plain": [
       "Pipeline(steps=[('custom',\n",
       "                 CustomTransformer(func=<function frequency_encoding at 0x0000024AA233F040>)),\n",
       "                ('custom2',\n",
       "                 CustomTransformer2(func=<function road_traffic_density at 0x0000024AA233F3A0>)),\n",
       "                ('custom3',\n",
       "                 CustomTransformer3(func=<function Type_of_vehicle at 0x0000024AA233F700>)),\n",
       "                ('Encoding_tnf',\n",
       "                 ColumnTransformer(remainder='passthrough',\n",
       "                                   transformers=[('tnf2'...\n",
       "                                                  ['Weather_conditions',\n",
       "                                                   'Type_of_order', 'Festival',\n",
       "                                                   'City'])])),\n",
       "                ('scaling_tnf',\n",
       "                 ColumnTransformer(remainder='passthrough',\n",
       "                                   transformers=[('tnf', StandardScaler(),\n",
       "                                                  slice(0, 18, None))])),\n",
       "                ('model',\n",
       "                 LGBMRegressor(colsample_bytree=0.9769037375988533,\n",
       "                               learning_rate=0.05854272296061775, max_depth=18,\n",
       "                               min_child_weight=0.7607736996559302,\n",
       "                               num_leaves=130, subsample=0.5434350673119992))])"
      ]
     },
     "execution_count": 7,
     "metadata": {},
     "output_type": "execute_result"
    }
   ],
   "source": [
    "transformer"
   ]
  }
 ],
 "metadata": {
  "kernelspec": {
   "display_name": "EDA_practice",
   "language": "python",
   "name": "python3"
  },
  "language_info": {
   "codemirror_mode": {
    "name": "ipython",
    "version": 3
   },
   "file_extension": ".py",
   "mimetype": "text/x-python",
   "name": "python",
   "nbconvert_exporter": "python",
   "pygments_lexer": "ipython3",
   "version": "3.8.18"
  }
 },
 "nbformat": 4,
 "nbformat_minor": 2
}
